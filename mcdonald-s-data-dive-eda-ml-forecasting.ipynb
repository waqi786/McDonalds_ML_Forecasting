{
 "cells": [
  {
   "cell_type": "markdown",
   "id": "e1e29865",
   "metadata": {
    "papermill": {
     "duration": 0.012991,
     "end_time": "2025-07-19T08:47:44.506053",
     "exception": false,
     "start_time": "2025-07-19T08:47:44.493062",
     "status": "completed"
    },
    "tags": []
   },
   "source": [
    "<a id=\"2\"></a>\n",
    "<div style=\"display: flex; align-items: center; justify-content: center; text-align:center; border-radius:20px; padding:30px; color:black; margin:0 auto; font-size:500%; font-family:Arial; background-color:Orange; overflow:hidden; width: 700px; height: 340px; \n",
    "    box-shadow: 0 0 000px 00px rgba(5.03, 5.00, 5, 5.0);\">\n",
    "    <b>📊 McDonald's Data Dive: EDA & ML Forecasting</b>\n",
    "</div>\n"
   ]
  },
  {
   "cell_type": "markdown",
   "id": "e603d121",
   "metadata": {
    "papermill": {
     "duration": 0.011708,
     "end_time": "2025-07-19T08:47:44.529634",
     "exception": false,
     "start_time": "2025-07-19T08:47:44.517926",
     "status": "completed"
    },
    "tags": []
   },
   "source": [
    "<a id=\"2\"></a>\n",
    "# <div style=\"text-align:center; border-radius:15px 50px; padding:15px; color:black; margin:0; font-size:100%; font-family:Arial; background-color:Orange; overflow:hidden\"><b>  ✨ **About Author** ✨ </b></div>\n",
    "\n",
    "<div style=\"background-color: white; border: 9px solid Orange; border-radius: 19px; box-shadow: 0 10px 20px rgba(0, 0, 0, 0.1); max-width: 600px; margin: 20px auto; padding: 20px; text-align: center; font-family: 'Segoe UI', Tahoma, Geneva, Verdana, sans-serif;\">\n",
    "    <h2 style=\"color: black; font-weight: bold; margin-bottom: 10px;\">WAQAR ALI</h2>\n",
    "    <p style=\"font-size: 16px; line-height: 1.6; color: black; margin-bottom: 20px;\">\n",
    "        I'm a passionate Data Scientist and Analyst, dedicated to transforming raw data into actionable insights through captivating visualizations. Let's dive into the fascinating world of data and uncover the stories hidden within! 📊🔍✨\n",
    "    </p>\n",
    "</div>\n"
   ]
  },
  {
   "cell_type": "markdown",
   "id": "bb8d9cf8",
   "metadata": {
    "papermill": {
     "duration": 0.010539,
     "end_time": "2025-07-19T08:47:44.551146",
     "exception": false,
     "start_time": "2025-07-19T08:47:44.540607",
     "status": "completed"
    },
    "tags": []
   },
   "source": [
    "<a id=\"2\"></a>\n",
    "# <div style=\"text-align:center; border-radius:15px 50px; padding:15px; color:black; margin:0; font-size:100%; font-family:Arial; background-color:orange; overflow:hidden\"><b> ✨ Import Libraries ✨</b></div>"
   ]
  },
  {
   "cell_type": "code",
   "execution_count": 1,
   "id": "75713fd4",
   "metadata": {
    "execution": {
     "iopub.execute_input": "2025-07-19T08:47:44.574548Z",
     "iopub.status.busy": "2025-07-19T08:47:44.574113Z",
     "iopub.status.idle": "2025-07-19T08:47:50.255979Z",
     "shell.execute_reply": "2025-07-19T08:47:50.254956Z"
    },
    "papermill": {
     "duration": 5.696152,
     "end_time": "2025-07-19T08:47:50.258103",
     "exception": false,
     "start_time": "2025-07-19T08:47:44.561951",
     "status": "completed"
    },
    "tags": []
   },
   "outputs": [],
   "source": [
    "import pandas as pd\n",
    "import numpy as np\n",
    "import matplotlib.pyplot as plt\n",
    "import seaborn as sns\n",
    "import warnings\n",
    "\n",
    "# Plotly for interactive plots\n",
    "import plotly.express as px\n",
    "\n",
    "# ML Tools\n",
    "from sklearn.model_selection import train_test_split\n",
    "from sklearn.linear_model import LinearRegression\n",
    "from sklearn.metrics import mean_squared_error, r2_score\n",
    "\n",
    "# Display Settings\n",
    "warnings.filterwarnings('ignore')\n",
    "pd.set_option('display.float_format', lambda x: '%.2f' % x)\n",
    "\n",
    "# Theme setup\n",
    "sns.set_theme(style=\"whitegrid\", palette=\"pastel\")\n"
   ]
  },
  {
   "cell_type": "markdown",
   "id": "92eb8823",
   "metadata": {
    "papermill": {
     "duration": 0.011624,
     "end_time": "2025-07-19T08:47:50.282076",
     "exception": false,
     "start_time": "2025-07-19T08:47:50.270452",
     "status": "completed"
    },
    "tags": []
   },
   "source": [
    "<a id=\"2\"></a>\n",
    "# <div style=\"text-align:center; border-radius:15px 50px; padding:15px; color:black; margin:0; font-size:100%; font-family:Arial; background-color:orange; overflow:hidden\"><b> ✨ Load Dataset ✨</b></div>"
   ]
  },
  {
   "cell_type": "code",
   "execution_count": 2,
   "id": "9d131df1",
   "metadata": {
    "execution": {
     "iopub.execute_input": "2025-07-19T08:47:50.306621Z",
     "iopub.status.busy": "2025-07-19T08:47:50.305966Z",
     "iopub.status.idle": "2025-07-19T08:47:51.740111Z",
     "shell.execute_reply": "2025-07-19T08:47:51.738922Z"
    },
    "papermill": {
     "duration": 1.448642,
     "end_time": "2025-07-19T08:47:51.741850",
     "exception": false,
     "start_time": "2025-07-19T08:47:50.293208",
     "status": "completed"
    },
    "tags": []
   },
   "outputs": [
    {
     "data": {
      "text/html": [
       "<div>\n",
       "<style scoped>\n",
       "    .dataframe tbody tr th:only-of-type {\n",
       "        vertical-align: middle;\n",
       "    }\n",
       "\n",
       "    .dataframe tbody tr th {\n",
       "        vertical-align: top;\n",
       "    }\n",
       "\n",
       "    .dataframe thead th {\n",
       "        text-align: right;\n",
       "    }\n",
       "</style>\n",
       "<table border=\"1\" class=\"dataframe\">\n",
       "  <thead>\n",
       "    <tr style=\"text-align: right;\">\n",
       "      <th></th>\n",
       "      <th>table</th>\n",
       "      <th>heading</th>\n",
       "      <th>subheading</th>\n",
       "      <th>2024</th>\n",
       "      <th>2023</th>\n",
       "      <th>2022</th>\n",
       "      <th>2021</th>\n",
       "      <th>Unnamed: 7</th>\n",
       "      <th>Unnamed: 8</th>\n",
       "      <th>Unnamed: 9</th>\n",
       "      <th>Unnamed: 10</th>\n",
       "      <th>Unnamed: 11</th>\n",
       "    </tr>\n",
       "  </thead>\n",
       "  <tbody>\n",
       "    <tr>\n",
       "      <th>0</th>\n",
       "      <td>revenue_breakdown</td>\n",
       "      <td>company_operated</td>\n",
       "      <td>company_operated_us</td>\n",
       "      <td>3197.00</td>\n",
       "      <td>3221.00</td>\n",
       "      <td>2,836</td>\n",
       "      <td>2,617</td>\n",
       "      <td>NaN</td>\n",
       "      <td>NaN</td>\n",
       "      <td>NaN</td>\n",
       "      <td>NaN</td>\n",
       "      <td>NaN</td>\n",
       "    </tr>\n",
       "    <tr>\n",
       "      <th>1</th>\n",
       "      <td>revenue_breakdown</td>\n",
       "      <td>company_operated</td>\n",
       "      <td>company_operated_international_operated_markets</td>\n",
       "      <td>5713.00</td>\n",
       "      <td>5702.00</td>\n",
       "      <td>5,179</td>\n",
       "      <td>6,456</td>\n",
       "      <td>NaN</td>\n",
       "      <td>NaN</td>\n",
       "      <td>NaN</td>\n",
       "      <td>NaN</td>\n",
       "      <td>NaN</td>\n",
       "    </tr>\n",
       "    <tr>\n",
       "      <th>2</th>\n",
       "      <td>revenue_breakdown</td>\n",
       "      <td>company_operated</td>\n",
       "      <td>company_operated_intl_dev_licensed_and_corp</td>\n",
       "      <td>872.00</td>\n",
       "      <td>819.00</td>\n",
       "      <td>733</td>\n",
       "      <td>715</td>\n",
       "      <td>NaN</td>\n",
       "      <td>NaN</td>\n",
       "      <td>NaN</td>\n",
       "      <td>NaN</td>\n",
       "      <td>NaN</td>\n",
       "    </tr>\n",
       "    <tr>\n",
       "      <th>3</th>\n",
       "      <td>revenue_breakdown</td>\n",
       "      <td>franchised</td>\n",
       "      <td>franchised_us</td>\n",
       "      <td>7211.00</td>\n",
       "      <td>7163.00</td>\n",
       "      <td>6,585</td>\n",
       "      <td>6,094</td>\n",
       "      <td>NaN</td>\n",
       "      <td>NaN</td>\n",
       "      <td>NaN</td>\n",
       "      <td>NaN</td>\n",
       "      <td>NaN</td>\n",
       "    </tr>\n",
       "    <tr>\n",
       "      <th>4</th>\n",
       "      <td>revenue_breakdown</td>\n",
       "      <td>franchised</td>\n",
       "      <td>franchised_international_operated_markets</td>\n",
       "      <td>6746.00</td>\n",
       "      <td>6549.00</td>\n",
       "      <td>5,985</td>\n",
       "      <td>5,638</td>\n",
       "      <td>NaN</td>\n",
       "      <td>NaN</td>\n",
       "      <td>NaN</td>\n",
       "      <td>NaN</td>\n",
       "      <td>NaN</td>\n",
       "    </tr>\n",
       "  </tbody>\n",
       "</table>\n",
       "</div>"
      ],
      "text/plain": [
       "               table           heading  \\\n",
       "0  revenue_breakdown  company_operated   \n",
       "1  revenue_breakdown  company_operated   \n",
       "2  revenue_breakdown  company_operated   \n",
       "3  revenue_breakdown        franchised   \n",
       "4  revenue_breakdown        franchised   \n",
       "\n",
       "                                        subheading    2024    2023   2022  \\\n",
       "0                              company_operated_us 3197.00 3221.00  2,836   \n",
       "1  company_operated_international_operated_markets 5713.00 5702.00  5,179   \n",
       "2      company_operated_intl_dev_licensed_and_corp  872.00  819.00    733   \n",
       "3                                    franchised_us 7211.00 7163.00  6,585   \n",
       "4        franchised_international_operated_markets 6746.00 6549.00  5,985   \n",
       "\n",
       "    2021  Unnamed: 7  Unnamed: 8  Unnamed: 9  Unnamed: 10  Unnamed: 11  \n",
       "0  2,617         NaN         NaN         NaN          NaN          NaN  \n",
       "1  6,456         NaN         NaN         NaN          NaN          NaN  \n",
       "2    715         NaN         NaN         NaN          NaN          NaN  \n",
       "3  6,094         NaN         NaN         NaN          NaN          NaN  \n",
       "4  5,638         NaN         NaN         NaN          NaN          NaN  "
      ]
     },
     "execution_count": 2,
     "metadata": {},
     "output_type": "execute_result"
    }
   ],
   "source": [
    "df = pd.read_csv('/kaggle/input/mcdonalds-finanacial-data-2021-2024/Mcdonalds data 2021-24.csv')\n",
    "df.head()\n"
   ]
  },
  {
   "cell_type": "markdown",
   "id": "ff3cbb73",
   "metadata": {
    "papermill": {
     "duration": 0.01042,
     "end_time": "2025-07-19T08:47:51.763629",
     "exception": false,
     "start_time": "2025-07-19T08:47:51.753209",
     "status": "completed"
    },
    "tags": []
   },
   "source": [
    "<a id=\"2\"></a>\n",
    "# <div style=\"text-align:center; border-radius:15px 50px; padding:15px; color:black; margin:0; font-size:100%; font-family:Arial; background-color:orange; overflow:hidden\"><b> ✨ Check Columns ✨</b></div>"
   ]
  },
  {
   "cell_type": "code",
   "execution_count": 3,
   "id": "cdd43358",
   "metadata": {
    "execution": {
     "iopub.execute_input": "2025-07-19T08:47:51.786467Z",
     "iopub.status.busy": "2025-07-19T08:47:51.785680Z",
     "iopub.status.idle": "2025-07-19T08:47:51.793881Z",
     "shell.execute_reply": "2025-07-19T08:47:51.793006Z"
    },
    "papermill": {
     "duration": 0.021371,
     "end_time": "2025-07-19T08:47:51.795480",
     "exception": false,
     "start_time": "2025-07-19T08:47:51.774109",
     "status": "completed"
    },
    "tags": []
   },
   "outputs": [
    {
     "data": {
      "text/plain": [
       "Index(['table', 'heading', 'subheading', '2024', '2023', '2022', '2021',\n",
       "       'Unnamed: 7', 'Unnamed: 8', 'Unnamed: 9', 'Unnamed: 10', 'Unnamed: 11'],\n",
       "      dtype='object')"
      ]
     },
     "execution_count": 3,
     "metadata": {},
     "output_type": "execute_result"
    }
   ],
   "source": [
    "df.columns"
   ]
  },
  {
   "cell_type": "markdown",
   "id": "96af9e09",
   "metadata": {
    "papermill": {
     "duration": 0.011203,
     "end_time": "2025-07-19T08:47:51.817606",
     "exception": false,
     "start_time": "2025-07-19T08:47:51.806403",
     "status": "completed"
    },
    "tags": []
   },
   "source": [
    "<a id=\"2\"></a>\n",
    "# <div style=\"text-align:center; border-radius:15px 50px; padding:15px; color:black; margin:0; font-size:100%; font-family:Arial; background-color:orange; overflow:hidden\"><b> ✨ Drop Unnecessary Columns ✨</b></div>"
   ]
  },
  {
   "cell_type": "code",
   "execution_count": 4,
   "id": "63f5bf9c",
   "metadata": {
    "execution": {
     "iopub.execute_input": "2025-07-19T08:47:51.840963Z",
     "iopub.status.busy": "2025-07-19T08:47:51.840585Z",
     "iopub.status.idle": "2025-07-19T08:47:51.941783Z",
     "shell.execute_reply": "2025-07-19T08:47:51.940590Z"
    },
    "papermill": {
     "duration": 0.115228,
     "end_time": "2025-07-19T08:47:51.943566",
     "exception": false,
     "start_time": "2025-07-19T08:47:51.828338",
     "status": "completed"
    },
    "tags": []
   },
   "outputs": [
    {
     "data": {
      "text/html": [
       "<div>\n",
       "<style scoped>\n",
       "    .dataframe tbody tr th:only-of-type {\n",
       "        vertical-align: middle;\n",
       "    }\n",
       "\n",
       "    .dataframe tbody tr th {\n",
       "        vertical-align: top;\n",
       "    }\n",
       "\n",
       "    .dataframe thead th {\n",
       "        text-align: right;\n",
       "    }\n",
       "</style>\n",
       "<table border=\"1\" class=\"dataframe\">\n",
       "  <thead>\n",
       "    <tr style=\"text-align: right;\">\n",
       "      <th></th>\n",
       "      <th>table</th>\n",
       "      <th>heading</th>\n",
       "      <th>subheading</th>\n",
       "      <th>2024</th>\n",
       "      <th>2023</th>\n",
       "      <th>2022</th>\n",
       "      <th>2021</th>\n",
       "    </tr>\n",
       "  </thead>\n",
       "  <tbody>\n",
       "    <tr>\n",
       "      <th>0</th>\n",
       "      <td>revenue_breakdown</td>\n",
       "      <td>company_operated</td>\n",
       "      <td>company_operated_us</td>\n",
       "      <td>3197.00</td>\n",
       "      <td>3221.00</td>\n",
       "      <td>2,836</td>\n",
       "      <td>2,617</td>\n",
       "    </tr>\n",
       "    <tr>\n",
       "      <th>1</th>\n",
       "      <td>revenue_breakdown</td>\n",
       "      <td>company_operated</td>\n",
       "      <td>company_operated_international_operated_markets</td>\n",
       "      <td>5713.00</td>\n",
       "      <td>5702.00</td>\n",
       "      <td>5,179</td>\n",
       "      <td>6,456</td>\n",
       "    </tr>\n",
       "    <tr>\n",
       "      <th>2</th>\n",
       "      <td>revenue_breakdown</td>\n",
       "      <td>company_operated</td>\n",
       "      <td>company_operated_intl_dev_licensed_and_corp</td>\n",
       "      <td>872.00</td>\n",
       "      <td>819.00</td>\n",
       "      <td>733</td>\n",
       "      <td>715</td>\n",
       "    </tr>\n",
       "    <tr>\n",
       "      <th>3</th>\n",
       "      <td>revenue_breakdown</td>\n",
       "      <td>franchised</td>\n",
       "      <td>franchised_us</td>\n",
       "      <td>7211.00</td>\n",
       "      <td>7163.00</td>\n",
       "      <td>6,585</td>\n",
       "      <td>6,094</td>\n",
       "    </tr>\n",
       "    <tr>\n",
       "      <th>4</th>\n",
       "      <td>revenue_breakdown</td>\n",
       "      <td>franchised</td>\n",
       "      <td>franchised_international_operated_markets</td>\n",
       "      <td>6746.00</td>\n",
       "      <td>6549.00</td>\n",
       "      <td>5,985</td>\n",
       "      <td>5,638</td>\n",
       "    </tr>\n",
       "  </tbody>\n",
       "</table>\n",
       "</div>"
      ],
      "text/plain": [
       "               table           heading  \\\n",
       "0  revenue_breakdown  company_operated   \n",
       "1  revenue_breakdown  company_operated   \n",
       "2  revenue_breakdown  company_operated   \n",
       "3  revenue_breakdown        franchised   \n",
       "4  revenue_breakdown        franchised   \n",
       "\n",
       "                                        subheading    2024    2023   2022  \\\n",
       "0                              company_operated_us 3197.00 3221.00  2,836   \n",
       "1  company_operated_international_operated_markets 5713.00 5702.00  5,179   \n",
       "2      company_operated_intl_dev_licensed_and_corp  872.00  819.00    733   \n",
       "3                                    franchised_us 7211.00 7163.00  6,585   \n",
       "4        franchised_international_operated_markets 6746.00 6549.00  5,985   \n",
       "\n",
       "    2021  \n",
       "0  2,617  \n",
       "1  6,456  \n",
       "2    715  \n",
       "3  6,094  \n",
       "4  5,638  "
      ]
     },
     "execution_count": 4,
     "metadata": {},
     "output_type": "execute_result"
    }
   ],
   "source": [
    "df = df.loc[:, ~df.columns.str.contains('^Unnamed')]\n",
    "df.head()"
   ]
  },
  {
   "cell_type": "markdown",
   "id": "8d36e6fc",
   "metadata": {
    "papermill": {
     "duration": 0.010948,
     "end_time": "2025-07-19T08:47:51.966076",
     "exception": false,
     "start_time": "2025-07-19T08:47:51.955128",
     "status": "completed"
    },
    "tags": []
   },
   "source": [
    "<a id=\"2\"></a>\n",
    "# <div style=\"text-align:center; border-radius:15px 50px; padding:15px; color:black; margin:0; font-size:100%; font-family:Arial; background-color:orange; overflow:hidden\"><b> ✨ Summary Info ✨</b></div>"
   ]
  },
  {
   "cell_type": "code",
   "execution_count": 5,
   "id": "cf8836fe",
   "metadata": {
    "execution": {
     "iopub.execute_input": "2025-07-19T08:47:51.992087Z",
     "iopub.status.busy": "2025-07-19T08:47:51.991272Z",
     "iopub.status.idle": "2025-07-19T08:47:52.188129Z",
     "shell.execute_reply": "2025-07-19T08:47:52.186916Z"
    },
    "papermill": {
     "duration": 0.21196,
     "end_time": "2025-07-19T08:47:52.190008",
     "exception": false,
     "start_time": "2025-07-19T08:47:51.978048",
     "status": "completed"
    },
    "tags": []
   },
   "outputs": [
    {
     "name": "stdout",
     "output_type": "stream",
     "text": [
      "<class 'pandas.core.frame.DataFrame'>\n",
      "RangeIndex: 1048504 entries, 0 to 1048503\n",
      "Data columns (total 7 columns):\n",
      " #   Column      Non-Null Count  Dtype  \n",
      "---  ------      --------------  -----  \n",
      " 0   table       85 non-null     object \n",
      " 1   heading     85 non-null     object \n",
      " 2   subheading  85 non-null     object \n",
      " 3   2024        85 non-null     float64\n",
      " 4   2023        85 non-null     float64\n",
      " 5   2022        85 non-null     object \n",
      " 6   2021        85 non-null     object \n",
      "dtypes: float64(2), object(5)\n",
      "memory usage: 56.0+ MB\n"
     ]
    }
   ],
   "source": [
    "df.info()"
   ]
  },
  {
   "cell_type": "markdown",
   "id": "0e191ecb",
   "metadata": {
    "papermill": {
     "duration": 0.01156,
     "end_time": "2025-07-19T08:47:52.310157",
     "exception": false,
     "start_time": "2025-07-19T08:47:52.298597",
     "status": "completed"
    },
    "tags": []
   },
   "source": [
    "<a id=\"2\"></a>\n",
    "# <div style=\"text-align:center; border-radius:15px 50px; padding:15px; color:black; margin:0; font-size:100%; font-family:Arial; background-color:orange; overflow:hidden\"><b> ✨ Null Values ✨</b></div>"
   ]
  },
  {
   "cell_type": "code",
   "execution_count": 6,
   "id": "3eb11d80",
   "metadata": {
    "execution": {
     "iopub.execute_input": "2025-07-19T08:47:52.335093Z",
     "iopub.status.busy": "2025-07-19T08:47:52.334728Z",
     "iopub.status.idle": "2025-07-19T08:47:52.509957Z",
     "shell.execute_reply": "2025-07-19T08:47:52.508930Z"
    },
    "papermill": {
     "duration": 0.189963,
     "end_time": "2025-07-19T08:47:52.511764",
     "exception": false,
     "start_time": "2025-07-19T08:47:52.321801",
     "status": "completed"
    },
    "tags": []
   },
   "outputs": [
    {
     "data": {
      "text/plain": [
       "table         1048419\n",
       "heading       1048419\n",
       "subheading    1048419\n",
       "2024          1048419\n",
       "2023          1048419\n",
       "2022          1048419\n",
       "2021          1048419\n",
       "dtype: int64"
      ]
     },
     "execution_count": 6,
     "metadata": {},
     "output_type": "execute_result"
    }
   ],
   "source": [
    "df.isnull().sum()"
   ]
  },
  {
   "cell_type": "markdown",
   "id": "88b46c84",
   "metadata": {
    "papermill": {
     "duration": 0.011126,
     "end_time": "2025-07-19T08:47:52.534596",
     "exception": false,
     "start_time": "2025-07-19T08:47:52.523470",
     "status": "completed"
    },
    "tags": []
   },
   "source": [
    "<a id=\"2\"></a>\n",
    "# <div style=\"text-align:center; border-radius:15px 50px; padding:15px; color:black; margin:0; font-size:100%; font-family:Arial; background-color:orange; overflow:hidden\"><b> ✨ Clean Dollar & Comma Strings ✨</b></div>"
   ]
  },
  {
   "cell_type": "code",
   "execution_count": 7,
   "id": "a9a5ac43",
   "metadata": {
    "execution": {
     "iopub.execute_input": "2025-07-19T08:47:52.558127Z",
     "iopub.status.busy": "2025-07-19T08:47:52.557759Z",
     "iopub.status.idle": "2025-07-19T08:47:56.709595Z",
     "shell.execute_reply": "2025-07-19T08:47:56.708600Z"
    },
    "papermill": {
     "duration": 4.165838,
     "end_time": "2025-07-19T08:47:56.711473",
     "exception": false,
     "start_time": "2025-07-19T08:47:52.545635",
     "status": "completed"
    },
    "tags": []
   },
   "outputs": [],
   "source": [
    "for year in ['2021', '2022', '2023', '2024']:\n",
    "    df[year] = (\n",
    "        df[year].astype(str)\n",
    "        .str.replace('$', '', regex=False)\n",
    "        .str.replace(',', '', regex=False)\n",
    "        .str.strip()\n",
    "    )"
   ]
  },
  {
   "cell_type": "markdown",
   "id": "476468c0",
   "metadata": {
    "papermill": {
     "duration": 0.012686,
     "end_time": "2025-07-19T08:47:56.736312",
     "exception": false,
     "start_time": "2025-07-19T08:47:56.723626",
     "status": "completed"
    },
    "tags": []
   },
   "source": [
    "<a id=\"2\"></a>\n",
    "# <div style=\"text-align:center; border-radius:15px 50px; padding:15px; color:black; margin:0; font-size:100%; font-family:Arial; background-color:orange; overflow:hidden\"><b> ✨ Convert to Float ✨</b></div>"
   ]
  },
  {
   "cell_type": "code",
   "execution_count": 8,
   "id": "47b74dd2",
   "metadata": {
    "execution": {
     "iopub.execute_input": "2025-07-19T08:47:56.762358Z",
     "iopub.status.busy": "2025-07-19T08:47:56.762014Z",
     "iopub.status.idle": "2025-07-19T08:47:59.960733Z",
     "shell.execute_reply": "2025-07-19T08:47:59.959593Z"
    },
    "papermill": {
     "duration": 3.213496,
     "end_time": "2025-07-19T08:47:59.962590",
     "exception": false,
     "start_time": "2025-07-19T08:47:56.749094",
     "status": "completed"
    },
    "tags": []
   },
   "outputs": [],
   "source": [
    "for year in ['2021', '2022', '2023', '2024']:\n",
    "    df[year] = pd.to_numeric(df[year], errors='coerce')"
   ]
  },
  {
   "cell_type": "markdown",
   "id": "22d6a1c4",
   "metadata": {
    "papermill": {
     "duration": 0.011499,
     "end_time": "2025-07-19T08:47:59.985995",
     "exception": false,
     "start_time": "2025-07-19T08:47:59.974496",
     "status": "completed"
    },
    "tags": []
   },
   "source": [
    "<a id=\"2\"></a>\n",
    "# <div style=\"text-align:center; border-radius:15px 50px; padding:15px; color:black; margin:0; font-size:100%; font-family:Arial; background-color:orange; overflow:hidden\"><b> ✨ Final Dataset Preview ✨</b></div>"
   ]
  },
  {
   "cell_type": "code",
   "execution_count": 9,
   "id": "22107626",
   "metadata": {
    "execution": {
     "iopub.execute_input": "2025-07-19T08:48:00.010446Z",
     "iopub.status.busy": "2025-07-19T08:48:00.010095Z",
     "iopub.status.idle": "2025-07-19T08:48:00.021713Z",
     "shell.execute_reply": "2025-07-19T08:48:00.020781Z"
    },
    "papermill": {
     "duration": 0.025734,
     "end_time": "2025-07-19T08:48:00.023193",
     "exception": false,
     "start_time": "2025-07-19T08:47:59.997459",
     "status": "completed"
    },
    "tags": []
   },
   "outputs": [
    {
     "data": {
      "text/html": [
       "<div>\n",
       "<style scoped>\n",
       "    .dataframe tbody tr th:only-of-type {\n",
       "        vertical-align: middle;\n",
       "    }\n",
       "\n",
       "    .dataframe tbody tr th {\n",
       "        vertical-align: top;\n",
       "    }\n",
       "\n",
       "    .dataframe thead th {\n",
       "        text-align: right;\n",
       "    }\n",
       "</style>\n",
       "<table border=\"1\" class=\"dataframe\">\n",
       "  <thead>\n",
       "    <tr style=\"text-align: right;\">\n",
       "      <th></th>\n",
       "      <th>table</th>\n",
       "      <th>heading</th>\n",
       "      <th>subheading</th>\n",
       "      <th>2024</th>\n",
       "      <th>2023</th>\n",
       "      <th>2022</th>\n",
       "      <th>2021</th>\n",
       "    </tr>\n",
       "  </thead>\n",
       "  <tbody>\n",
       "    <tr>\n",
       "      <th>0</th>\n",
       "      <td>revenue_breakdown</td>\n",
       "      <td>company_operated</td>\n",
       "      <td>company_operated_us</td>\n",
       "      <td>3197.00</td>\n",
       "      <td>3221.00</td>\n",
       "      <td>2836.00</td>\n",
       "      <td>2617.00</td>\n",
       "    </tr>\n",
       "    <tr>\n",
       "      <th>1</th>\n",
       "      <td>revenue_breakdown</td>\n",
       "      <td>company_operated</td>\n",
       "      <td>company_operated_international_operated_markets</td>\n",
       "      <td>5713.00</td>\n",
       "      <td>5702.00</td>\n",
       "      <td>5179.00</td>\n",
       "      <td>6456.00</td>\n",
       "    </tr>\n",
       "    <tr>\n",
       "      <th>2</th>\n",
       "      <td>revenue_breakdown</td>\n",
       "      <td>company_operated</td>\n",
       "      <td>company_operated_intl_dev_licensed_and_corp</td>\n",
       "      <td>872.00</td>\n",
       "      <td>819.00</td>\n",
       "      <td>733.00</td>\n",
       "      <td>715.00</td>\n",
       "    </tr>\n",
       "    <tr>\n",
       "      <th>3</th>\n",
       "      <td>revenue_breakdown</td>\n",
       "      <td>franchised</td>\n",
       "      <td>franchised_us</td>\n",
       "      <td>7211.00</td>\n",
       "      <td>7163.00</td>\n",
       "      <td>6585.00</td>\n",
       "      <td>6094.00</td>\n",
       "    </tr>\n",
       "    <tr>\n",
       "      <th>4</th>\n",
       "      <td>revenue_breakdown</td>\n",
       "      <td>franchised</td>\n",
       "      <td>franchised_international_operated_markets</td>\n",
       "      <td>6746.00</td>\n",
       "      <td>6549.00</td>\n",
       "      <td>5985.00</td>\n",
       "      <td>5638.00</td>\n",
       "    </tr>\n",
       "    <tr>\n",
       "      <th>5</th>\n",
       "      <td>revenue_breakdown</td>\n",
       "      <td>franchised</td>\n",
       "      <td>franchised_intl_dev_licensed_and_corp</td>\n",
       "      <td>1758.00</td>\n",
       "      <td>1724.00</td>\n",
       "      <td>1536.00</td>\n",
       "      <td>1353.00</td>\n",
       "    </tr>\n",
       "    <tr>\n",
       "      <th>6</th>\n",
       "      <td>revenue_breakdown</td>\n",
       "      <td>other</td>\n",
       "      <td>other_revenues</td>\n",
       "      <td>423.00</td>\n",
       "      <td>316.00</td>\n",
       "      <td>329.00</td>\n",
       "      <td>351.00</td>\n",
       "    </tr>\n",
       "    <tr>\n",
       "      <th>7</th>\n",
       "      <td>NaN</td>\n",
       "      <td>NaN</td>\n",
       "      <td>NaN</td>\n",
       "      <td>NaN</td>\n",
       "      <td>NaN</td>\n",
       "      <td>NaN</td>\n",
       "      <td>NaN</td>\n",
       "    </tr>\n",
       "    <tr>\n",
       "      <th>8</th>\n",
       "      <td>NaN</td>\n",
       "      <td>NaN</td>\n",
       "      <td>NaN</td>\n",
       "      <td>NaN</td>\n",
       "      <td>NaN</td>\n",
       "      <td>NaN</td>\n",
       "      <td>NaN</td>\n",
       "    </tr>\n",
       "    <tr>\n",
       "      <th>9</th>\n",
       "      <td>operating_non_operating_table</td>\n",
       "      <td>operating_costs_company_owned</td>\n",
       "      <td>food_and_paper</td>\n",
       "      <td>2995.00</td>\n",
       "      <td>3039.00</td>\n",
       "      <td>2737.30</td>\n",
       "      <td>3096.80</td>\n",
       "    </tr>\n",
       "  </tbody>\n",
       "</table>\n",
       "</div>"
      ],
      "text/plain": [
       "                           table                        heading  \\\n",
       "0              revenue_breakdown               company_operated   \n",
       "1              revenue_breakdown               company_operated   \n",
       "2              revenue_breakdown               company_operated   \n",
       "3              revenue_breakdown                     franchised   \n",
       "4              revenue_breakdown                     franchised   \n",
       "5              revenue_breakdown                     franchised   \n",
       "6              revenue_breakdown                          other   \n",
       "7                            NaN                            NaN   \n",
       "8                            NaN                            NaN   \n",
       "9  operating_non_operating_table  operating_costs_company_owned   \n",
       "\n",
       "                                        subheading    2024    2023    2022  \\\n",
       "0                              company_operated_us 3197.00 3221.00 2836.00   \n",
       "1  company_operated_international_operated_markets 5713.00 5702.00 5179.00   \n",
       "2      company_operated_intl_dev_licensed_and_corp  872.00  819.00  733.00   \n",
       "3                                    franchised_us 7211.00 7163.00 6585.00   \n",
       "4        franchised_international_operated_markets 6746.00 6549.00 5985.00   \n",
       "5            franchised_intl_dev_licensed_and_corp 1758.00 1724.00 1536.00   \n",
       "6                                   other_revenues  423.00  316.00  329.00   \n",
       "7                                              NaN     NaN     NaN     NaN   \n",
       "8                                              NaN     NaN     NaN     NaN   \n",
       "9                                   food_and_paper 2995.00 3039.00 2737.30   \n",
       "\n",
       "     2021  \n",
       "0 2617.00  \n",
       "1 6456.00  \n",
       "2  715.00  \n",
       "3 6094.00  \n",
       "4 5638.00  \n",
       "5 1353.00  \n",
       "6  351.00  \n",
       "7     NaN  \n",
       "8     NaN  \n",
       "9 3096.80  "
      ]
     },
     "execution_count": 9,
     "metadata": {},
     "output_type": "execute_result"
    }
   ],
   "source": [
    "df.head(10)"
   ]
  },
  {
   "cell_type": "markdown",
   "id": "aba4f8e0",
   "metadata": {
    "papermill": {
     "duration": 0.011638,
     "end_time": "2025-07-19T08:48:00.047131",
     "exception": false,
     "start_time": "2025-07-19T08:48:00.035493",
     "status": "completed"
    },
    "tags": []
   },
   "source": [
    "<a id=\"2\"></a>\n",
    "# <div style=\"text-align:center; border-radius:15px 50px; padding:15px; color:black; margin:0; font-size:100%; font-family:Arial; background-color:orange; overflow:hidden\"><b> ✨ Basic Stats ✨</b></div>"
   ]
  },
  {
   "cell_type": "code",
   "execution_count": 10,
   "id": "fe5944ab",
   "metadata": {
    "execution": {
     "iopub.execute_input": "2025-07-19T08:48:00.072899Z",
     "iopub.status.busy": "2025-07-19T08:48:00.072516Z",
     "iopub.status.idle": "2025-07-19T08:48:00.256414Z",
     "shell.execute_reply": "2025-07-19T08:48:00.255159Z"
    },
    "papermill": {
     "duration": 0.199396,
     "end_time": "2025-07-19T08:48:00.258319",
     "exception": false,
     "start_time": "2025-07-19T08:48:00.058923",
     "status": "completed"
    },
    "tags": []
   },
   "outputs": [
    {
     "data": {
      "text/html": [
       "<div>\n",
       "<style scoped>\n",
       "    .dataframe tbody tr th:only-of-type {\n",
       "        vertical-align: middle;\n",
       "    }\n",
       "\n",
       "    .dataframe tbody tr th {\n",
       "        vertical-align: top;\n",
       "    }\n",
       "\n",
       "    .dataframe thead th {\n",
       "        text-align: right;\n",
       "    }\n",
       "</style>\n",
       "<table border=\"1\" class=\"dataframe\">\n",
       "  <thead>\n",
       "    <tr style=\"text-align: right;\">\n",
       "      <th></th>\n",
       "      <th>2024</th>\n",
       "      <th>2023</th>\n",
       "      <th>2022</th>\n",
       "      <th>2021</th>\n",
       "    </tr>\n",
       "  </thead>\n",
       "  <tbody>\n",
       "    <tr>\n",
       "      <th>count</th>\n",
       "      <td>85.00</td>\n",
       "      <td>85.00</td>\n",
       "      <td>85.00</td>\n",
       "      <td>85.00</td>\n",
       "    </tr>\n",
       "    <tr>\n",
       "      <th>mean</th>\n",
       "      <td>2222.40</td>\n",
       "      <td>2380.91</td>\n",
       "      <td>2037.45</td>\n",
       "      <td>2228.74</td>\n",
       "    </tr>\n",
       "    <tr>\n",
       "      <th>std</th>\n",
       "      <td>13363.43</td>\n",
       "      <td>12890.16</td>\n",
       "      <td>12204.90</td>\n",
       "      <td>11872.55</td>\n",
       "    </tr>\n",
       "    <tr>\n",
       "      <th>min</th>\n",
       "      <td>-77375.00</td>\n",
       "      <td>-74640.00</td>\n",
       "      <td>-71624.40</td>\n",
       "      <td>-67810.20</td>\n",
       "    </tr>\n",
       "    <tr>\n",
       "      <th>25%</th>\n",
       "      <td>3.00</td>\n",
       "      <td>12.00</td>\n",
       "      <td>8.39</td>\n",
       "      <td>10.04</td>\n",
       "    </tr>\n",
       "    <tr>\n",
       "      <th>50%</th>\n",
       "      <td>636.00</td>\n",
       "      <td>732.00</td>\n",
       "      <td>733.00</td>\n",
       "      <td>715.00</td>\n",
       "    </tr>\n",
       "    <tr>\n",
       "      <th>75%</th>\n",
       "      <td>2536.00</td>\n",
       "      <td>2886.00</td>\n",
       "      <td>2584.00</td>\n",
       "      <td>2404.00</td>\n",
       "    </tr>\n",
       "    <tr>\n",
       "      <th>max</th>\n",
       "      <td>66834.00</td>\n",
       "      <td>63480.00</td>\n",
       "      <td>59543.90</td>\n",
       "      <td>57534.70</td>\n",
       "    </tr>\n",
       "  </tbody>\n",
       "</table>\n",
       "</div>"
      ],
      "text/plain": [
       "           2024      2023      2022      2021\n",
       "count     85.00     85.00     85.00     85.00\n",
       "mean    2222.40   2380.91   2037.45   2228.74\n",
       "std    13363.43  12890.16  12204.90  11872.55\n",
       "min   -77375.00 -74640.00 -71624.40 -67810.20\n",
       "25%        3.00     12.00      8.39     10.04\n",
       "50%      636.00    732.00    733.00    715.00\n",
       "75%     2536.00   2886.00   2584.00   2404.00\n",
       "max    66834.00  63480.00  59543.90  57534.70"
      ]
     },
     "execution_count": 10,
     "metadata": {},
     "output_type": "execute_result"
    }
   ],
   "source": [
    "df.describe()"
   ]
  },
  {
   "cell_type": "markdown",
   "id": "a26bf033",
   "metadata": {
    "papermill": {
     "duration": 0.011779,
     "end_time": "2025-07-19T08:48:00.283137",
     "exception": false,
     "start_time": "2025-07-19T08:48:00.271358",
     "status": "completed"
    },
    "tags": []
   },
   "source": [
    "<a id=\"2\"></a>\n",
    "# <div style=\"text-align:center; border-radius:15px 50px; padding:15px; color:black; margin:0; font-size:100%; font-family:Arial; background-color:orange; overflow:hidden\"><b> ✨ Revenue by Year (Bar Plot) ✨</b></div>"
   ]
  },
  {
   "cell_type": "code",
   "execution_count": 11,
   "id": "4b06e275",
   "metadata": {
    "execution": {
     "iopub.execute_input": "2025-07-19T08:48:00.308510Z",
     "iopub.status.busy": "2025-07-19T08:48:00.308147Z",
     "iopub.status.idle": "2025-07-19T08:48:00.773495Z",
     "shell.execute_reply": "2025-07-19T08:48:00.772627Z"
    },
    "papermill": {
     "duration": 0.480133,
     "end_time": "2025-07-19T08:48:00.775164",
     "exception": false,
     "start_time": "2025-07-19T08:48:00.295031",
     "status": "completed"
    },
    "tags": []
   },
   "outputs": [
    {
     "data": {
      "image/png": "[encoded data removed]",
      "text/plain": [
       "<Figure size 640x480 with 1 Axes>"
      ]
     },
     "metadata": {},
     "output_type": "display_data"
    }
   ],
   "source": [
    "year_cols = ['2021', '2022', '2023', '2024']\n",
    "df_yearly = df[year_cols].sum().reset_index()\n",
    "df_yearly.columns = ['Year', 'Revenue']\n",
    "\n",
    "sns.barplot(data=df_yearly, x='Year', y='Revenue', palette=['#FF8000', '#005CB9', '#FF8000', '#005CB9'])\n",
    "plt.title(\"McDonald's Revenue by Year\")\n",
    "plt.ylabel('Revenue (in Millions)')\n",
    "plt.show()"
   ]
  },
  {
   "cell_type": "markdown",
   "id": "0d11be54",
   "metadata": {
    "papermill": {
     "duration": 0.01287,
     "end_time": "2025-07-19T08:48:00.801256",
     "exception": false,
     "start_time": "2025-07-19T08:48:00.788386",
     "status": "completed"
    },
    "tags": []
   },
   "source": [
    "<a id=\"2\"></a>\n",
    "# <div style=\"text-align:center; border-radius:15px 50px; padding:15px; color:black; margin:0; font-size:100%; font-family:Arial; background-color:orange; overflow:hidden\"><b> ✨ Year-on-Year Growth ✨</b></div>"
   ]
  },
  {
   "cell_type": "code",
   "execution_count": 12,
   "id": "a4c15ee8",
   "metadata": {
    "execution": {
     "iopub.execute_input": "2025-07-19T08:48:00.828040Z",
     "iopub.status.busy": "2025-07-19T08:48:00.827680Z",
     "iopub.status.idle": "2025-07-19T08:48:00.876155Z",
     "shell.execute_reply": "2025-07-19T08:48:00.875326Z"
    },
    "papermill": {
     "duration": 0.063884,
     "end_time": "2025-07-19T08:48:00.877925",
     "exception": false,
     "start_time": "2025-07-19T08:48:00.814041",
     "status": "completed"
    },
    "tags": []
   },
   "outputs": [
    {
     "data": {
      "text/plain": [
       "2022   -8.58\n",
       "2023   16.86\n",
       "2024   -6.66\n",
       "dtype: float64"
      ]
     },
     "execution_count": 12,
     "metadata": {},
     "output_type": "execute_result"
    }
   ],
   "source": [
    "df_growth = df[year_cols].sum()\n",
    "df_growth = df_growth.pct_change().dropna() * 100\n",
    "df_growth"
   ]
  },
  {
   "cell_type": "markdown",
   "id": "d9e6ee0c",
   "metadata": {
    "papermill": {
     "duration": 0.011984,
     "end_time": "2025-07-19T08:48:00.902548",
     "exception": false,
     "start_time": "2025-07-19T08:48:00.890564",
     "status": "completed"
    },
    "tags": []
   },
   "source": [
    "<a id=\"2\"></a>\n",
    "# <div style=\"text-align:center; border-radius:15px 50px; padding:15px; color:black; margin:0; font-size:100%; font-family:Arial; background-color:orange; overflow:hidden\"><b> ✨ Line Plot of Yearly Revenue ✨</b></div>"
   ]
  },
  {
   "cell_type": "code",
   "execution_count": 13,
   "id": "c87aba1e",
   "metadata": {
    "execution": {
     "iopub.execute_input": "2025-07-19T08:48:00.928811Z",
     "iopub.status.busy": "2025-07-19T08:48:00.928374Z",
     "iopub.status.idle": "2025-07-19T08:48:01.135660Z",
     "shell.execute_reply": "2025-07-19T08:48:01.134750Z"
    },
    "papermill": {
     "duration": 0.222659,
     "end_time": "2025-07-19T08:48:01.137320",
     "exception": false,
     "start_time": "2025-07-19T08:48:00.914661",
     "status": "completed"
    },
    "tags": []
   },
   "outputs": [
    {
     "data": {
      "image/png": "[encoded data removed]",
      "text/plain": [
       "<Figure size 640x480 with 1 Axes>"
      ]
     },
     "metadata": {},
     "output_type": "display_data"
    }
   ],
   "source": [
    "sns.lineplot(data=df_yearly, x='Year', y='Revenue', marker='o', color='#FF8000')\n",
    "plt.title(\"Revenue Trend Over Years\")\n",
    "plt.ylabel(\"Revenue (in Millions)\")\n",
    "plt.grid(True)\n",
    "plt.show()"
   ]
  },
  {
   "cell_type": "markdown",
   "id": "592a63fa",
   "metadata": {
    "papermill": {
     "duration": 0.014107,
     "end_time": "2025-07-19T08:48:01.165154",
     "exception": false,
     "start_time": "2025-07-19T08:48:01.151047",
     "status": "completed"
    },
    "tags": []
   },
   "source": [
    "<a id=\"2\"></a>\n",
    "# <div style=\"text-align:center; border-radius:15px 50px; padding:15px; color:black; margin:0; font-size:100%; font-family:Arial; background-color:orange; overflow:hidden\"><b> ✨ Group by Heading ✨</b></div>"
   ]
  },
  {
   "cell_type": "code",
   "execution_count": 14,
   "id": "05f30c68",
   "metadata": {
    "execution": {
     "iopub.execute_input": "2025-07-19T08:48:01.195412Z",
     "iopub.status.busy": "2025-07-19T08:48:01.195019Z",
     "iopub.status.idle": "2025-07-19T08:48:01.258397Z",
     "shell.execute_reply": "2025-07-19T08:48:01.257404Z"
    },
    "papermill": {
     "duration": 0.080946,
     "end_time": "2025-07-19T08:48:01.260297",
     "exception": false,
     "start_time": "2025-07-19T08:48:01.179351",
     "status": "completed"
    },
    "tags": []
   },
   "outputs": [
    {
     "data": {
      "text/html": [
       "<div>\n",
       "<style scoped>\n",
       "    .dataframe tbody tr th:only-of-type {\n",
       "        vertical-align: middle;\n",
       "    }\n",
       "\n",
       "    .dataframe tbody tr th {\n",
       "        vertical-align: top;\n",
       "    }\n",
       "\n",
       "    .dataframe thead th {\n",
       "        text-align: right;\n",
       "    }\n",
       "</style>\n",
       "<table border=\"1\" class=\"dataframe\">\n",
       "  <thead>\n",
       "    <tr style=\"text-align: right;\">\n",
       "      <th>heading</th>\n",
       "      <th>cash_and_equivalents_at_beginning_of_year</th>\n",
       "      <th>cash_and_equivalents_at_end_of_year</th>\n",
       "      <th>cash_and_equivalents_increase_(decrease)</th>\n",
       "      <th>changes_in_working_capital</th>\n",
       "      <th>charges_and_credit</th>\n",
       "      <th>company_operated</th>\n",
       "      <th>current_assets</th>\n",
       "      <th>current_liabilities</th>\n",
       "      <th>effect_of_exchange_rates</th>\n",
       "      <th>financing_activity</th>\n",
       "      <th>...</th>\n",
       "      <th>net_income</th>\n",
       "      <th>non_operating_cost</th>\n",
       "      <th>operating_costs</th>\n",
       "      <th>operating_costs_company_owned</th>\n",
       "      <th>operating_costs_franchise</th>\n",
       "      <th>other</th>\n",
       "      <th>other_assets</th>\n",
       "      <th>share_data</th>\n",
       "      <th>shareholders</th>\n",
       "      <th>total</th>\n",
       "    </tr>\n",
       "  </thead>\n",
       "  <tbody>\n",
       "    <tr>\n",
       "      <th>2021</th>\n",
       "      <td>3449.90</td>\n",
       "      <td>4709.20</td>\n",
       "      <td>1260.00</td>\n",
       "      <td>454.20</td>\n",
       "      <td>1142.10</td>\n",
       "      <td>9788.00</td>\n",
       "      <td>7148.50</td>\n",
       "      <td>4020.00</td>\n",
       "      <td>-120.10</td>\n",
       "      <td>-5596.50</td>\n",
       "      <td>...</td>\n",
       "      <td>7545.20</td>\n",
       "      <td>2810.80</td>\n",
       "      <td>2484.60</td>\n",
       "      <td>8047.80</td>\n",
       "      <td>2335.00</td>\n",
       "      <td>351.00</td>\n",
       "      <td>8433.20</td>\n",
       "      <td>1523.50</td>\n",
       "      <td>-4601.00</td>\n",
       "      <td>27029.10</td>\n",
       "    </tr>\n",
       "    <tr>\n",
       "      <th>2022</th>\n",
       "      <td>4709.00</td>\n",
       "      <td>2584.00</td>\n",
       "      <td>-2126.00</td>\n",
       "      <td>-645.00</td>\n",
       "      <td>1855.00</td>\n",
       "      <td>8748.00</td>\n",
       "      <td>5424.20</td>\n",
       "      <td>3802.10</td>\n",
       "      <td>-254.00</td>\n",
       "      <td>-6580.00</td>\n",
       "      <td>...</td>\n",
       "      <td>6177.00</td>\n",
       "      <td>3193.60</td>\n",
       "      <td>4081.00</td>\n",
       "      <td>7380.90</td>\n",
       "      <td>2349.70</td>\n",
       "      <td>329.00</td>\n",
       "      <td>8672.10</td>\n",
       "      <td>1500.18</td>\n",
       "      <td>-6003.40</td>\n",
       "      <td>23373.80</td>\n",
       "    </tr>\n",
       "    <tr>\n",
       "      <th>2023</th>\n",
       "      <td>2584.00</td>\n",
       "      <td>4579.00</td>\n",
       "      <td>1996.00</td>\n",
       "      <td>-108.00</td>\n",
       "      <td>1251.00</td>\n",
       "      <td>9742.00</td>\n",
       "      <td>7986.00</td>\n",
       "      <td>6859.00</td>\n",
       "      <td>-58.00</td>\n",
       "      <td>-4374.00</td>\n",
       "      <td>...</td>\n",
       "      <td>8469.00</td>\n",
       "      <td>3178.00</td>\n",
       "      <td>3149.00</td>\n",
       "      <td>8224.00</td>\n",
       "      <td>2475.00</td>\n",
       "      <td>316.00</td>\n",
       "      <td>9738.00</td>\n",
       "      <td>1490.00</td>\n",
       "      <td>-4706.00</td>\n",
       "      <td>30638.00</td>\n",
       "    </tr>\n",
       "    <tr>\n",
       "      <th>2024</th>\n",
       "      <td>4579.00</td>\n",
       "      <td>1085.00</td>\n",
       "      <td>-3495.00</td>\n",
       "      <td>-438.00</td>\n",
       "      <td>1661.00</td>\n",
       "      <td>9782.00</td>\n",
       "      <td>4598.00</td>\n",
       "      <td>3861.00</td>\n",
       "      <td>-101.00</td>\n",
       "      <td>-7493.00</td>\n",
       "      <td>...</td>\n",
       "      <td>8223.00</td>\n",
       "      <td>3488.00</td>\n",
       "      <td>3337.00</td>\n",
       "      <td>8335.00</td>\n",
       "      <td>2536.00</td>\n",
       "      <td>423.00</td>\n",
       "      <td>11950.00</td>\n",
       "      <td>1469.82</td>\n",
       "      <td>-3796.00</td>\n",
       "      <td>30280.00</td>\n",
       "    </tr>\n",
       "  </tbody>\n",
       "</table>\n",
       "<p>4 rows × 26 columns</p>\n",
       "</div>"
      ],
      "text/plain": [
       "heading  cash_and_equivalents_at_beginning_of_year  \\\n",
       "2021                                       3449.90   \n",
       "2022                                       4709.00   \n",
       "2023                                       2584.00   \n",
       "2024                                       4579.00   \n",
       "\n",
       "heading  cash_and_equivalents_at_end_of_year  \\\n",
       "2021                                 4709.20   \n",
       "2022                                 2584.00   \n",
       "2023                                 4579.00   \n",
       "2024                                 1085.00   \n",
       "\n",
       "heading  cash_and_equivalents_increase_(decrease)  changes_in_working_capital  \\\n",
       "2021                                      1260.00                      454.20   \n",
       "2022                                     -2126.00                     -645.00   \n",
       "2023                                      1996.00                     -108.00   \n",
       "2024                                     -3495.00                     -438.00   \n",
       "\n",
       "heading  charges_and_credit  company_operated  current_assets  \\\n",
       "2021                1142.10           9788.00         7148.50   \n",
       "2022                1855.00           8748.00         5424.20   \n",
       "2023                1251.00           9742.00         7986.00   \n",
       "2024                1661.00           9782.00         4598.00   \n",
       "\n",
       "heading  current_liabilities  effect_of_exchange_rates  financing_activity  \\\n",
       "2021                 4020.00                   -120.10            -5596.50   \n",
       "2022                 3802.10                   -254.00            -6580.00   \n",
       "2023                 6859.00                    -58.00            -4374.00   \n",
       "2024                 3861.00                   -101.00            -7493.00   \n",
       "\n",
       "heading  ...  net_income  non_operating_cost  operating_costs  \\\n",
       "2021     ...     7545.20             2810.80          2484.60   \n",
       "2022     ...     6177.00             3193.60          4081.00   \n",
       "2023     ...     8469.00             3178.00          3149.00   \n",
       "2024     ...     8223.00             3488.00          3337.00   \n",
       "\n",
       "heading  operating_costs_company_owned  operating_costs_franchise  other  \\\n",
       "2021                           8047.80                    2335.00 351.00   \n",
       "2022                           7380.90                    2349.70 329.00   \n",
       "2023                           8224.00                    2475.00 316.00   \n",
       "2024                           8335.00                    2536.00 423.00   \n",
       "\n",
       "heading  other_assets  share_data  shareholders    total  \n",
       "2021          8433.20     1523.50      -4601.00 27029.10  \n",
       "2022          8672.10     1500.18      -6003.40 23373.80  \n",
       "2023          9738.00     1490.00      -4706.00 30638.00  \n",
       "2024         11950.00     1469.82      -3796.00 30280.00  \n",
       "\n",
       "[4 rows x 26 columns]"
      ]
     },
     "execution_count": 14,
     "metadata": {},
     "output_type": "execute_result"
    }
   ],
   "source": [
    "df_grouped = df.groupby(\"heading\")[year_cols].sum().T\n",
    "df_grouped"
   ]
  },
  {
   "cell_type": "markdown",
   "id": "76119277",
   "metadata": {
    "papermill": {
     "duration": 0.014851,
     "end_time": "2025-07-19T08:48:01.291671",
     "exception": false,
     "start_time": "2025-07-19T08:48:01.276820",
     "status": "completed"
    },
    "tags": []
   },
   "source": [
    "<a id=\"2\"></a>\n",
    "# <div style=\"text-align:center; border-radius:15px 50px; padding:15px; color:black; margin:0; font-size:100%; font-family:Arial; background-color:orange; overflow:hidden\"><b> ✨ Subheading Breakdown ✨</b></div>"
   ]
  },
  {
   "cell_type": "code",
   "execution_count": 15,
   "id": "f550e7d2",
   "metadata": {
    "execution": {
     "iopub.execute_input": "2025-07-19T08:48:01.323612Z",
     "iopub.status.busy": "2025-07-19T08:48:01.323276Z",
     "iopub.status.idle": "2025-07-19T08:48:01.700934Z",
     "shell.execute_reply": "2025-07-19T08:48:01.699961Z"
    },
    "papermill": {
     "duration": 0.395577,
     "end_time": "2025-07-19T08:48:01.702599",
     "exception": false,
     "start_time": "2025-07-19T08:48:01.307022",
     "status": "completed"
    },
    "tags": []
   },
   "outputs": [
    {
     "data": {
      "image/png": "[encoded data removed]",
      "text/plain": [
       "<Figure size 640x480 with 1 Axes>"
      ]
     },
     "metadata": {},
     "output_type": "display_data"
    }
   ],
   "source": [
    "top_subs = df.groupby(\"subheading\")[\"2024\"].sum().sort_values(ascending=False).head(10)\n",
    "top_subs.plot(kind='barh', color='#005CB9')\n",
    "plt.xlabel(\"Revenue in 2024\")\n",
    "plt.title(\"Top 10 Subheadings - 2024 Revenue\")\n",
    "plt.gca().invert_yaxis()\n",
    "plt.show()"
   ]
  },
  {
   "cell_type": "markdown",
   "id": "7863d35c",
   "metadata": {
    "papermill": {
     "duration": 0.016628,
     "end_time": "2025-07-19T08:48:01.736507",
     "exception": false,
     "start_time": "2025-07-19T08:48:01.719879",
     "status": "completed"
    },
    "tags": []
   },
   "source": [
    "<a id=\"2\"></a>\n",
    "# <div style=\"text-align:center; border-radius:15px 50px; padding:15px; color:black; margin:0; font-size:100%; font-family:Arial; background-color:orange; overflow:hidden\"><b> ✨ Heatmap ✨</b></div>"
   ]
  },
  {
   "cell_type": "code",
   "execution_count": 16,
   "id": "4a5ed8f7",
   "metadata": {
    "execution": {
     "iopub.execute_input": "2025-07-19T08:48:01.772347Z",
     "iopub.status.busy": "2025-07-19T08:48:01.771320Z",
     "iopub.status.idle": "2025-07-19T08:48:02.074092Z",
     "shell.execute_reply": "2025-07-19T08:48:02.072881Z"
    },
    "papermill": {
     "duration": 0.32245,
     "end_time": "2025-07-19T08:48:02.076014",
     "exception": false,
     "start_time": "2025-07-19T08:48:01.753564",
     "status": "completed"
    },
    "tags": []
   },
   "outputs": [
    {
     "data": {
      "image/png": "[encoded data removed]",
      "text/plain": [
       "<Figure size 640x480 with 2 Axes>"
      ]
     },
     "metadata": {},
     "output_type": "display_data"
    }
   ],
   "source": [
    "sns.heatmap(df[year_cols].corr(), annot=True, cmap='Oranges')\n",
    "plt.title(\"Correlation Heatmap\")\n",
    "plt.show()"
   ]
  },
  {
   "cell_type": "markdown",
   "id": "7a3a8493",
   "metadata": {
    "papermill": {
     "duration": 0.017688,
     "end_time": "2025-07-19T08:48:02.111423",
     "exception": false,
     "start_time": "2025-07-19T08:48:02.093735",
     "status": "completed"
    },
    "tags": []
   },
   "source": [
    "<a id=\"2\"></a>\n",
    "# <div style=\"text-align:center; border-radius:15px 50px; padding:15px; color:black; margin:0; font-size:100%; font-family:Arial; background-color:orange; overflow:hidden\"><b> ✨ Reshape for ML ✨</b></div>"
   ]
  },
  {
   "cell_type": "code",
   "execution_count": 17,
   "id": "45ed7d65",
   "metadata": {
    "execution": {
     "iopub.execute_input": "2025-07-19T08:48:02.148320Z",
     "iopub.status.busy": "2025-07-19T08:48:02.147418Z",
     "iopub.status.idle": "2025-07-19T08:48:02.184854Z",
     "shell.execute_reply": "2025-07-19T08:48:02.183786Z"
    },
    "papermill": {
     "duration": 0.057466,
     "end_time": "2025-07-19T08:48:02.186572",
     "exception": false,
     "start_time": "2025-07-19T08:48:02.129106",
     "status": "completed"
    },
    "tags": []
   },
   "outputs": [],
   "source": [
    "df_ml = df.dropna(subset=['2021', '2022', '2023', '2024'])\n",
    "X = df_ml[['2021', '2022', '2023']]\n",
    "y = df_ml['2024']"
   ]
  },
  {
   "cell_type": "markdown",
   "id": "3b760c23",
   "metadata": {
    "papermill": {
     "duration": 0.015863,
     "end_time": "2025-07-19T08:48:02.218972",
     "exception": false,
     "start_time": "2025-07-19T08:48:02.203109",
     "status": "completed"
    },
    "tags": []
   },
   "source": [
    "<a id=\"2\"></a>\n",
    "# <div style=\"text-align:center; border-radius:15px 50px; padding:15px; color:black; margin:0; font-size:100%; font-family:Arial; background-color:orange; overflow:hidden\"><b> ✨ Split Dataset ✨</b></div>"
   ]
  },
  {
   "cell_type": "code",
   "execution_count": 18,
   "id": "e36280d5",
   "metadata": {
    "execution": {
     "iopub.execute_input": "2025-07-19T08:48:02.254066Z",
     "iopub.status.busy": "2025-07-19T08:48:02.252998Z",
     "iopub.status.idle": "2025-07-19T08:48:02.260110Z",
     "shell.execute_reply": "2025-07-19T08:48:02.259181Z"
    },
    "papermill": {
     "duration": 0.026585,
     "end_time": "2025-07-19T08:48:02.261896",
     "exception": false,
     "start_time": "2025-07-19T08:48:02.235311",
     "status": "completed"
    },
    "tags": []
   },
   "outputs": [],
   "source": [
    "X_train, X_test, y_train, y_test = train_test_split(X, y, test_size=0.2, random_state=42)"
   ]
  },
  {
   "cell_type": "markdown",
   "id": "0019afa2",
   "metadata": {
    "papermill": {
     "duration": 0.017103,
     "end_time": "2025-07-19T08:48:02.297231",
     "exception": false,
     "start_time": "2025-07-19T08:48:02.280128",
     "status": "completed"
    },
    "tags": []
   },
   "source": [
    "<a id=\"2\"></a>\n",
    "# <div style=\"text-align:center; border-radius:15px 50px; padding:15px; color:black; margin:0; font-size:100%; font-family:Arial; background-color:orange; overflow:hidden\"><b> ✨ Train Linear Regression ✨</b></div>"
   ]
  },
  {
   "cell_type": "code",
   "execution_count": 19,
   "id": "0429f0ec",
   "metadata": {
    "execution": {
     "iopub.execute_input": "2025-07-19T08:48:02.333595Z",
     "iopub.status.busy": "2025-07-19T08:48:02.332536Z",
     "iopub.status.idle": "2025-07-19T08:48:02.368194Z",
     "shell.execute_reply": "2025-07-19T08:48:02.367193Z"
    },
    "papermill": {
     "duration": 0.055508,
     "end_time": "2025-07-19T08:48:02.369821",
     "exception": false,
     "start_time": "2025-07-19T08:48:02.314313",
     "status": "completed"
    },
    "tags": []
   },
   "outputs": [
    {
     "data": {
      "text/html": [
       "<style>#sk-container-id-1 {color: black;background-color: white;}#sk-container-id-1 pre{padding: 0;}#sk-container-id-1 div.sk-toggleable {background-color: white;}#sk-container-id-1 label.sk-toggleable__label {cursor: pointer;display: block;width: 100%;margin-bottom: 0;padding: 0.3em;box-sizing: border-box;text-align: center;}#sk-container-id-1 label.sk-toggleable__label-arrow:before {content: \"▸\";float: left;margin-right: 0.25em;color: #696969;}#sk-container-id-1 label.sk-toggleable__label-arrow:hover:before {color: black;}#sk-container-id-1 div.sk-estimator:hover label.sk-toggleable__label-arrow:before {color: black;}#sk-container-id-1 div.sk-toggleable__content {max-height: 0;max-width: 0;overflow: hidden;text-align: left;background-color: #f0f8ff;}#sk-container-id-1 div.sk-toggleable__content pre {margin: 0.2em;color: black;border-radius: 0.25em;background-color: #f0f8ff;}#sk-container-id-1 input.sk-toggleable__control:checked~div.sk-toggleable__content {max-height: 200px;max-width: 100%;overflow: auto;}#sk-container-id-1 input.sk-toggleable__control:checked~label.sk-toggleable__label-arrow:before {content: \"▾\";}#sk-container-id-1 div.sk-estimator input.sk-toggleable__control:checked~label.sk-toggleable__label {background-color: #d4ebff;}#sk-container-id-1 div.sk-label input.sk-toggleable__control:checked~label.sk-toggleable__label {background-color: #d4ebff;}#sk-container-id-1 input.sk-hidden--visually {border: 0;clip: rect(1px 1px 1px 1px);clip: rect(1px, 1px, 1px, 1px);height: 1px;margin: -1px;overflow: hidden;padding: 0;position: absolute;width: 1px;}#sk-container-id-1 div.sk-estimator {font-family: monospace;background-color: #f0f8ff;border: 1px dotted black;border-radius: 0.25em;box-sizing: border-box;margin-bottom: 0.5em;}#sk-container-id-1 div.sk-estimator:hover {background-color: #d4ebff;}#sk-container-id-1 div.sk-parallel-item::after {content: \"\";width: 100%;border-bottom: 1px solid gray;flex-grow: 1;}#sk-container-id-1 div.sk-label:hover label.sk-toggleable__label {background-color: #d4ebff;}#sk-container-id-1 div.sk-serial::before {content: \"\";position: absolute;border-left: 1px solid gray;box-sizing: border-box;top: 0;bottom: 0;left: 50%;z-index: 0;}#sk-container-id-1 div.sk-serial {display: flex;flex-direction: column;align-items: center;background-color: white;padding-right: 0.2em;padding-left: 0.2em;position: relative;}#sk-container-id-1 div.sk-item {position: relative;z-index: 1;}#sk-container-id-1 div.sk-parallel {display: flex;align-items: stretch;justify-content: center;background-color: white;position: relative;}#sk-container-id-1 div.sk-item::before, #sk-container-id-1 div.sk-parallel-item::before {content: \"\";position: absolute;border-left: 1px solid gray;box-sizing: border-box;top: 0;bottom: 0;left: 50%;z-index: -1;}#sk-container-id-1 div.sk-parallel-item {display: flex;flex-direction: column;z-index: 1;position: relative;background-color: white;}#sk-container-id-1 div.sk-parallel-item:first-child::after {align-self: flex-end;width: 50%;}#sk-container-id-1 div.sk-parallel-item:last-child::after {align-self: flex-start;width: 50%;}#sk-container-id-1 div.sk-parallel-item:only-child::after {width: 0;}#sk-container-id-1 div.sk-dashed-wrapped {border: 1px dashed gray;margin: 0 0.4em 0.5em 0.4em;box-sizing: border-box;padding-bottom: 0.4em;background-color: white;}#sk-container-id-1 div.sk-label label {font-family: monospace;font-weight: bold;display: inline-block;line-height: 1.2em;}#sk-container-id-1 div.sk-label-container {text-align: center;}#sk-container-id-1 div.sk-container {/* jupyter's `normalize.less` sets `[hidden] { display: none; }` but bootstrap.min.css set `[hidden] { display: none !important; }` so we also need the `!important` here to be able to override the default hidden behavior on the sphinx rendered scikit-learn.org. See: https://github.com/scikit-learn/scikit-learn/issues/21755 */display: inline-block !important;position: relative;}#sk-container-id-1 div.sk-text-repr-fallback {display: none;}</style><div id=\"sk-container-id-1\" class=\"sk-top-container\"><div class=\"sk-text-repr-fallback\"><pre>LinearRegression()</pre><b>In a Jupyter environment, please rerun this cell to show the HTML representation or trust the notebook. <br />On GitHub, the HTML representation is unable to render, please try loading this page with nbviewer.org.</b></div><div class=\"sk-container\" hidden><div class=\"sk-item\"><div class=\"sk-estimator sk-toggleable\"><input class=\"sk-toggleable__control sk-hidden--visually\" id=\"sk-estimator-id-1\" type=\"checkbox\" checked><label for=\"sk-estimator-id-1\" class=\"sk-toggleable__label sk-toggleable__label-arrow\">LinearRegression</label><div class=\"sk-toggleable__content\"><pre>LinearRegression()</pre></div></div></div></div></div>"
      ],
      "text/plain": [
       "LinearRegression()"
      ]
     },
     "execution_count": 19,
     "metadata": {},
     "output_type": "execute_result"
    }
   ],
   "source": [
    "lr = LinearRegression()\n",
    "lr.fit(X_train, y_train)"
   ]
  },
  {
   "cell_type": "markdown",
   "id": "3dd6dccf",
   "metadata": {
    "papermill": {
     "duration": 0.017818,
     "end_time": "2025-07-19T08:48:02.405439",
     "exception": false,
     "start_time": "2025-07-19T08:48:02.387621",
     "status": "completed"
    },
    "tags": []
   },
   "source": [
    "<a id=\"2\"></a>\n",
    "# <div style=\"text-align:center; border-radius:15px 50px; padding:15px; color:black; margin:0; font-size:100%; font-family:Arial; background-color:orange; overflow:hidden\"><b> ✨ Coefficients ✨</b></div>"
   ]
  },
  {
   "cell_type": "code",
   "execution_count": 20,
   "id": "9e807845",
   "metadata": {
    "execution": {
     "iopub.execute_input": "2025-07-19T08:48:02.444508Z",
     "iopub.status.busy": "2025-07-19T08:48:02.443551Z",
     "iopub.status.idle": "2025-07-19T08:48:02.453721Z",
     "shell.execute_reply": "2025-07-19T08:48:02.452806Z"
    },
    "papermill": {
     "duration": 0.030774,
     "end_time": "2025-07-19T08:48:02.455254",
     "exception": false,
     "start_time": "2025-07-19T08:48:02.424480",
     "status": "completed"
    },
    "tags": []
   },
   "outputs": [
    {
     "data": {
      "text/html": [
       "<div>\n",
       "<style scoped>\n",
       "    .dataframe tbody tr th:only-of-type {\n",
       "        vertical-align: middle;\n",
       "    }\n",
       "\n",
       "    .dataframe tbody tr th {\n",
       "        vertical-align: top;\n",
       "    }\n",
       "\n",
       "    .dataframe thead th {\n",
       "        text-align: right;\n",
       "    }\n",
       "</style>\n",
       "<table border=\"1\" class=\"dataframe\">\n",
       "  <thead>\n",
       "    <tr style=\"text-align: right;\">\n",
       "      <th></th>\n",
       "      <th>Feature</th>\n",
       "      <th>Coefficient</th>\n",
       "    </tr>\n",
       "  </thead>\n",
       "  <tbody>\n",
       "    <tr>\n",
       "      <th>0</th>\n",
       "      <td>2021</td>\n",
       "      <td>0.03</td>\n",
       "    </tr>\n",
       "    <tr>\n",
       "      <th>1</th>\n",
       "      <td>2022</td>\n",
       "      <td>1.01</td>\n",
       "    </tr>\n",
       "    <tr>\n",
       "      <th>2</th>\n",
       "      <td>2023</td>\n",
       "      <td>0.05</td>\n",
       "    </tr>\n",
       "  </tbody>\n",
       "</table>\n",
       "</div>"
      ],
      "text/plain": [
       "  Feature  Coefficient\n",
       "0    2021         0.03\n",
       "1    2022         1.01\n",
       "2    2023         0.05"
      ]
     },
     "execution_count": 20,
     "metadata": {},
     "output_type": "execute_result"
    }
   ],
   "source": [
    "pd.DataFrame({'Feature': X.columns, 'Coefficient': lr.coef_})"
   ]
  },
  {
   "cell_type": "markdown",
   "id": "551addf8",
   "metadata": {
    "papermill": {
     "duration": 0.016414,
     "end_time": "2025-07-19T08:48:02.489084",
     "exception": false,
     "start_time": "2025-07-19T08:48:02.472670",
     "status": "completed"
    },
    "tags": []
   },
   "source": [
    "<a id=\"2\"></a>\n",
    "# <div style=\"text-align:center; border-radius:15px 50px; padding:15px; color:black; margin:0; font-size:100%; font-family:Arial; background-color:orange; overflow:hidden\"><b> ✨ Predict ✨</b></div>"
   ]
  },
  {
   "cell_type": "code",
   "execution_count": 21,
   "id": "a01dbafe",
   "metadata": {
    "execution": {
     "iopub.execute_input": "2025-07-19T08:48:02.523608Z",
     "iopub.status.busy": "2025-07-19T08:48:02.523262Z",
     "iopub.status.idle": "2025-07-19T08:48:02.530072Z",
     "shell.execute_reply": "2025-07-19T08:48:02.528967Z"
    },
    "papermill": {
     "duration": 0.026672,
     "end_time": "2025-07-19T08:48:02.532107",
     "exception": false,
     "start_time": "2025-07-19T08:48:02.505435",
     "status": "completed"
    },
    "tags": []
   },
   "outputs": [],
   "source": [
    "y_pred = lr.predict(X_test)"
   ]
  },
  {
   "cell_type": "markdown",
   "id": "5c6d8ee8",
   "metadata": {
    "papermill": {
     "duration": 0.016403,
     "end_time": "2025-07-19T08:48:02.566362",
     "exception": false,
     "start_time": "2025-07-19T08:48:02.549959",
     "status": "completed"
    },
    "tags": []
   },
   "source": [
    "<a id=\"2\"></a>\n",
    "# <div style=\"text-align:center; border-radius:15px 50px; padding:15px; color:black; margin:0; font-size:100%; font-family:Arial; background-color:orange; overflow:hidden\"><b> ✨ Evaluation ✨</b></div>"
   ]
  },
  {
   "cell_type": "code",
   "execution_count": 22,
   "id": "5d3e1422",
   "metadata": {
    "execution": {
     "iopub.execute_input": "2025-07-19T08:48:02.602493Z",
     "iopub.status.busy": "2025-07-19T08:48:02.602009Z",
     "iopub.status.idle": "2025-07-19T08:48:02.610046Z",
     "shell.execute_reply": "2025-07-19T08:48:02.608972Z"
    },
    "papermill": {
     "duration": 0.028317,
     "end_time": "2025-07-19T08:48:02.611474",
     "exception": false,
     "start_time": "2025-07-19T08:48:02.583157",
     "status": "completed"
    },
    "tags": []
   },
   "outputs": [
    {
     "name": "stdout",
     "output_type": "stream",
     "text": [
      "MSE: 832625.8039494345\n",
      "R2 Score: 0.9978617349543972\n"
     ]
    }
   ],
   "source": [
    "print(\"MSE:\", mean_squared_error(y_test, y_pred))\n",
    "print(\"R2 Score:\", r2_score(y_test, y_pred))"
   ]
  },
  {
   "cell_type": "markdown",
   "id": "86e02a1c",
   "metadata": {
    "papermill": {
     "duration": 0.01661,
     "end_time": "2025-07-19T08:48:02.644606",
     "exception": false,
     "start_time": "2025-07-19T08:48:02.627996",
     "status": "completed"
    },
    "tags": []
   },
   "source": [
    "<a id=\"2\"></a>\n",
    "# <div style=\"text-align:center; border-radius:15px 50px; padding:15px; color:black; margin:0; font-size:100%; font-family:Arial; background-color:orange; overflow:hidden\"><b> ✨ Actual vs Predicted ✨</b></div>"
   ]
  },
  {
   "cell_type": "code",
   "execution_count": 23,
   "id": "7d4eb903",
   "metadata": {
    "execution": {
     "iopub.execute_input": "2025-07-19T08:48:02.679172Z",
     "iopub.status.busy": "2025-07-19T08:48:02.678837Z",
     "iopub.status.idle": "2025-07-19T08:48:02.920952Z",
     "shell.execute_reply": "2025-07-19T08:48:02.920034Z"
    },
    "papermill": {
     "duration": 0.262045,
     "end_time": "2025-07-19T08:48:02.923005",
     "exception": false,
     "start_time": "2025-07-19T08:48:02.660960",
     "status": "completed"
    },
    "tags": []
   },
   "outputs": [
    {
     "data": {
      "image/png": "[encoded data removed]",
      "text/plain": [
       "<Figure size 800x500 with 1 Axes>"
      ]
     },
     "metadata": {},
     "output_type": "display_data"
    }
   ],
   "source": [
    "plt.figure(figsize=(8, 5))\n",
    "plt.scatter(y_test, y_pred, color='#FF8000')\n",
    "plt.xlabel(\"Actual Revenue\")\n",
    "plt.ylabel(\"Predicted Revenue\")\n",
    "plt.title(\"Actual vs Predicted (2024 Revenue)\")\n",
    "plt.plot([min(y_test), max(y_test)], [min(y_test), max(y_test)], 'k--')\n",
    "plt.grid(True)\n",
    "plt.show()"
   ]
  },
  {
   "cell_type": "markdown",
   "id": "8ed18d36",
   "metadata": {
    "papermill": {
     "duration": 0.017471,
     "end_time": "2025-07-19T08:48:02.958919",
     "exception": false,
     "start_time": "2025-07-19T08:48:02.941448",
     "status": "completed"
    },
    "tags": []
   },
   "source": [
    "<a id=\"2\"></a>\n",
    "# <div style=\"text-align:center; border-radius:15px 50px; padding:15px; color:black; margin:0; font-size:100%; font-family:Arial; background-color:orange; overflow:hidden\"><b> ✨ Residual Plot ✨</b></div>"
   ]
  },
  {
   "cell_type": "code",
   "execution_count": 24,
   "id": "362fd36a",
   "metadata": {
    "execution": {
     "iopub.execute_input": "2025-07-19T08:48:02.995848Z",
     "iopub.status.busy": "2025-07-19T08:48:02.995527Z",
     "iopub.status.idle": "2025-07-19T08:48:03.313866Z",
     "shell.execute_reply": "2025-07-19T08:48:03.312989Z"
    },
    "papermill": {
     "duration": 0.338814,
     "end_time": "2025-07-19T08:48:03.315448",
     "exception": false,
     "start_time": "2025-07-19T08:48:02.976634",
     "status": "completed"
    },
    "tags": []
   },
   "outputs": [
    {
     "data": {
      "image/png": "[encoded data removed]",
      "text/plain": [
       "<Figure size 640x480 with 1 Axes>"
      ]
     },
     "metadata": {},
     "output_type": "display_data"
    }
   ],
   "source": [
    "residuals = y_test - y_pred\n",
    "sns.histplot(residuals, kde=True, color='#005CB9')\n",
    "plt.title(\"Residual Distribution\")\n",
    "plt.show()"
   ]
  },
  {
   "cell_type": "markdown",
   "id": "fe0a4935",
   "metadata": {
    "papermill": {
     "duration": 0.018807,
     "end_time": "2025-07-19T08:48:03.353594",
     "exception": false,
     "start_time": "2025-07-19T08:48:03.334787",
     "status": "completed"
    },
    "tags": []
   },
   "source": [
    "<a id=\"2\"></a>\n",
    "# <div style=\"text-align:center; border-radius:15px 50px; padding:15px; color:black; margin:0; font-size:100%; font-family:Arial; background-color:orange; overflow:hidden\"><b> ✨ Predict Single Row ✨</b></div>"
   ]
  },
  {
   "cell_type": "code",
   "execution_count": 25,
   "id": "8411c5f8",
   "metadata": {
    "execution": {
     "iopub.execute_input": "2025-07-19T08:48:03.393235Z",
     "iopub.status.busy": "2025-07-19T08:48:03.392857Z",
     "iopub.status.idle": "2025-07-19T08:48:03.399443Z",
     "shell.execute_reply": "2025-07-19T08:48:03.398054Z"
    },
    "papermill": {
     "duration": 0.028203,
     "end_time": "2025-07-19T08:48:03.400977",
     "exception": false,
     "start_time": "2025-07-19T08:48:03.372774",
     "status": "completed"
    },
    "tags": []
   },
   "outputs": [
    {
     "name": "stdout",
     "output_type": "stream",
     "text": [
      "Predicted: -2.149403893912492 | Actual: -56.0\n"
     ]
    }
   ],
   "source": [
    "sample = X_test.iloc[0].values.reshape(1, -1)\n",
    "print(\"Predicted:\", lr.predict(sample)[0], \"| Actual:\", y_test.iloc[0])"
   ]
  },
  {
   "cell_type": "markdown",
   "id": "f1afc8f5",
   "metadata": {
    "papermill": {
     "duration": 0.019919,
     "end_time": "2025-07-19T08:48:03.440208",
     "exception": false,
     "start_time": "2025-07-19T08:48:03.420289",
     "status": "completed"
    },
    "tags": []
   },
   "source": [
    "<a id=\"2\"></a>\n",
    "# <div style=\"text-align:center; border-radius:15px 50px; padding:15px; color:black; margin:0; font-size:100%; font-family:Arial; background-color:orange; overflow:hidden\"><b> ✨ Save Model ✨</b></div>"
   ]
  },
  {
   "cell_type": "code",
   "execution_count": 26,
   "id": "57b6deb3",
   "metadata": {
    "execution": {
     "iopub.execute_input": "2025-07-19T08:48:03.479858Z",
     "iopub.status.busy": "2025-07-19T08:48:03.479503Z",
     "iopub.status.idle": "2025-07-19T08:48:03.487138Z",
     "shell.execute_reply": "2025-07-19T08:48:03.486114Z"
    },
    "papermill": {
     "duration": 0.029282,
     "end_time": "2025-07-19T08:48:03.488674",
     "exception": false,
     "start_time": "2025-07-19T08:48:03.459392",
     "status": "completed"
    },
    "tags": []
   },
   "outputs": [
    {
     "data": {
      "text/plain": [
       "['mcd_model.pkl']"
      ]
     },
     "execution_count": 26,
     "metadata": {},
     "output_type": "execute_result"
    }
   ],
   "source": [
    "import joblib\n",
    "joblib.dump(lr, 'mcd_model.pkl')"
   ]
  },
  {
   "cell_type": "markdown",
   "id": "80d40d27",
   "metadata": {
    "papermill": {
     "duration": 0.018692,
     "end_time": "2025-07-19T08:48:03.527068",
     "exception": false,
     "start_time": "2025-07-19T08:48:03.508376",
     "status": "completed"
    },
    "tags": []
   },
   "source": [
    "<a id=\"2\"></a>\n",
    "# <div style=\"text-align:center; border-radius:15px 50px; padding:15px; color:black; margin:0; font-size:100%; font-family:Arial; background-color:orange; overflow:hidden\"><b> ✨ Load Model ✨</b></div>"
   ]
  },
  {
   "cell_type": "code",
   "execution_count": 27,
   "id": "95f75ed2",
   "metadata": {
    "execution": {
     "iopub.execute_input": "2025-07-19T08:48:03.568261Z",
     "iopub.status.busy": "2025-07-19T08:48:03.567908Z",
     "iopub.status.idle": "2025-07-19T08:48:03.576079Z",
     "shell.execute_reply": "2025-07-19T08:48:03.575022Z"
    },
    "papermill": {
     "duration": 0.030167,
     "end_time": "2025-07-19T08:48:03.577615",
     "exception": false,
     "start_time": "2025-07-19T08:48:03.547448",
     "status": "completed"
    },
    "tags": []
   },
   "outputs": [
    {
     "data": {
      "text/plain": [
       "array([-2.14940389])"
      ]
     },
     "execution_count": 27,
     "metadata": {},
     "output_type": "execute_result"
    }
   ],
   "source": [
    "model = joblib.load('mcd_model.pkl')\n",
    "model.predict(sample)"
   ]
  },
  {
   "cell_type": "markdown",
   "id": "d640932d",
   "metadata": {
    "papermill": {
     "duration": 0.018444,
     "end_time": "2025-07-19T08:48:03.616035",
     "exception": false,
     "start_time": "2025-07-19T08:48:03.597591",
     "status": "completed"
    },
    "tags": []
   },
   "source": [
    "<a id=\"2\"></a>\n",
    "# <div style=\"text-align:center; border-radius:15px 50px; padding:15px; color:black; margin:0; font-size:100%; font-family:Arial; background-color:orange; overflow:hidden\"><b> ✨ Interactive Line Chart (Plotly) ✨</b></div>"
   ]
  },
  {
   "cell_type": "code",
   "execution_count": 28,
   "id": "c902196f",
   "metadata": {
    "execution": {
     "iopub.execute_input": "2025-07-19T08:48:03.655171Z",
     "iopub.status.busy": "2025-07-19T08:48:03.654811Z",
     "iopub.status.idle": "2025-07-19T08:48:05.793725Z",
     "shell.execute_reply": "2025-07-19T08:48:05.792524Z"
    },
    "papermill": {
     "duration": 2.160749,
     "end_time": "2025-07-19T08:48:05.795306",
     "exception": false,
     "start_time": "2025-07-19T08:48:03.634557",
     "status": "completed"
    },
    "tags": []
   },
   "outputs": [
    {
     "data": {
      "text/html": [
       "<html>\n",
       "<head><meta charset=\"utf-8\" /></head>\n",
       "<body>\n",
       "    <div>            <script src=\"https://cdnjs.cloudflare.com/ajax/libs/mathjax/2.7.5/MathJax.js?config=TeX-AMS-MML_SVG\"></script><script type=\"text/javascript\">if (window.MathJax && window.MathJax.Hub && window.MathJax.Hub.Config) {window.MathJax.Hub.Config({SVG: {font: \"STIX-Web\"}});}</script>                <script type=\"text/javascript\">window.PlotlyConfig = {MathJaxConfig: 'local'};</script>\n",
       "        <script charset=\"utf-8\" src=\"https://cdn.plot.ly/plotly-2.35.2.min.js\"></script>                <div id=\"56661473-ecdb-4df0-b2d5-511a0b206812\" class=\"plotly-graph-div\" style=\"height:525px; width:100%;\"></div>            <script type=\"text/javascript\">                                    window.PLOTLYENV=window.PLOTLYENV || {};                                    if (document.getElementById(\"56661473-ecdb-4df0-b2d5-511a0b206812\")) {                    Plotly.newPlot(                        \"56661473-ecdb-4df0-b2d5-511a0b206812\",                        [{\"hovertemplate\":\"Year=%{x}\\u003cbr\\u003eRevenue=%{y}\\u003cextra\\u003e\\u003c\\u002fextra\\u003e\",\"legendgroup\":\"\",\"line\":{\"color\":\"#FF8000\",\"dash\":\"solid\",\"shape\":\"spline\"},\"marker\":{\"symbol\":\"circle\"},\"mode\":\"lines+markers\",\"name\":\"\",\"orientation\":\"v\",\"showlegend\":false,\"x\":[\"2021\",\"2022\",\"2023\",\"2024\"],\"xaxis\":\"x\",\"y\":[189442.69999999998,173183.38,202377.0,188903.82],\"yaxis\":\"y\",\"type\":\"scatter\"}],                        {\"template\":{\"data\":{\"histogram2dcontour\":[{\"type\":\"histogram2dcontour\",\"colorbar\":{\"outlinewidth\":0,\"ticks\":\"\"},\"colorscale\":[[0.0,\"#0d0887\"],[0.1111111111111111,\"#46039f\"],[0.2222222222222222,\"#7201a8\"],[0.3333333333333333,\"#9c179e\"],[0.4444444444444444,\"#bd3786\"],[0.5555555555555556,\"#d8576b\"],[0.6666666666666666,\"#ed7953\"],[0.7777777777777778,\"#fb9f3a\"],[0.8888888888888888,\"#fdca26\"],[1.0,\"#f0f921\"]]}],\"choropleth\":[{\"type\":\"choropleth\",\"colorbar\":{\"outlinewidth\":0,\"ticks\":\"\"}}],\"histogram2d\":[{\"type\":\"histogram2d\",\"colorbar\":{\"outlinewidth\":0,\"ticks\":\"\"},\"colorscale\":[[0.0,\"#0d0887\"],[0.1111111111111111,\"#46039f\"],[0.2222222222222222,\"#7201a8\"],[0.3333333333333333,\"#9c179e\"],[0.4444444444444444,\"#bd3786\"],[0.5555555555555556,\"#d8576b\"],[0.6666666666666666,\"#ed7953\"],[0.7777777777777778,\"#fb9f3a\"],[0.8888888888888888,\"#fdca26\"],[1.0,\"#f0f921\"]]}],\"heatmap\":[{\"type\":\"heatmap\",\"colorbar\":{\"outlinewidth\":0,\"ticks\":\"\"},\"colorscale\":[[0.0,\"#0d0887\"],[0.1111111111111111,\"#46039f\"],[0.2222222222222222,\"#7201a8\"],[0.3333333333333333,\"#9c179e\"],[0.4444444444444444,\"#bd3786\"],[0.5555555555555556,\"#d8576b\"],[0.6666666666666666,\"#ed7953\"],[0.7777777777777778,\"#fb9f3a\"],[0.8888888888888888,\"#fdca26\"],[1.0,\"#f0f921\"]]}],\"heatmapgl\":[{\"type\":\"heatmapgl\",\"colorbar\":{\"outlinewidth\":0,\"ticks\":\"\"},\"colorscale\":[[0.0,\"#0d0887\"],[0.1111111111111111,\"#46039f\"],[0.2222222222222222,\"#7201a8\"],[0.3333333333333333,\"#9c179e\"],[0.4444444444444444,\"#bd3786\"],[0.5555555555555556,\"#d8576b\"],[0.6666666666666666,\"#ed7953\"],[0.7777777777777778,\"#fb9f3a\"],[0.8888888888888888,\"#fdca26\"],[1.0,\"#f0f921\"]]}],\"contourcarpet\":[{\"type\":\"contourcarpet\",\"colorbar\":{\"outlinewidth\":0,\"ticks\":\"\"}}],\"contour\":[{\"type\":\"contour\",\"colorbar\":{\"outlinewidth\":0,\"ticks\":\"\"},\"colorscale\":[[0.0,\"#0d0887\"],[0.1111111111111111,\"#46039f\"],[0.2222222222222222,\"#7201a8\"],[0.3333333333333333,\"#9c179e\"],[0.4444444444444444,\"#bd3786\"],[0.5555555555555556,\"#d8576b\"],[0.6666666666666666,\"#ed7953\"],[0.7777777777777778,\"#fb9f3a\"],[0.8888888888888888,\"#fdca26\"],[1.0,\"#f0f921\"]]}],\"surface\":[{\"type\":\"surface\",\"colorbar\":{\"outlinewidth\":0,\"ticks\":\"\"},\"colorscale\":[[0.0,\"#0d0887\"],[0.1111111111111111,\"#46039f\"],[0.2222222222222222,\"#7201a8\"],[0.3333333333333333,\"#9c179e\"],[0.4444444444444444,\"#bd3786\"],[0.5555555555555556,\"#d8576b\"],[0.6666666666666666,\"#ed7953\"],[0.7777777777777778,\"#fb9f3a\"],[0.8888888888888888,\"#fdca26\"],[1.0,\"#f0f921\"]]}],\"mesh3d\":[{\"type\":\"mesh3d\",\"colorbar\":{\"outlinewidth\":0,\"ticks\":\"\"}}],\"scatter\":[{\"fillpattern\":{\"fillmode\":\"overlay\",\"size\":10,\"solidity\":0.2},\"type\":\"scatter\"}],\"parcoords\":[{\"type\":\"parcoords\",\"line\":{\"colorbar\":{\"outlinewidth\":0,\"ticks\":\"\"}}}],\"scatterpolargl\":[{\"type\":\"scatterpolargl\",\"marker\":{\"colorbar\":{\"outlinewidth\":0,\"ticks\":\"\"}}}],\"bar\":[{\"error_x\":{\"color\":\"#2a3f5f\"},\"error_y\":{\"color\":\"#2a3f5f\"},\"marker\":{\"line\":{\"color\":\"#E5ECF6\",\"width\":0.5},\"pattern\":{\"fillmode\":\"overlay\",\"size\":10,\"solidity\":0.2}},\"type\":\"bar\"}],\"scattergeo\":[{\"type\":\"scattergeo\",\"marker\":{\"colorbar\":{\"outlinewidth\":0,\"ticks\":\"\"}}}],\"scatterpolar\":[{\"type\":\"scatterpolar\",\"marker\":{\"colorbar\":{\"outlinewidth\":0,\"ticks\":\"\"}}}],\"histogram\":[{\"marker\":{\"pattern\":{\"fillmode\":\"overlay\",\"size\":10,\"solidity\":0.2}},\"type\":\"histogram\"}],\"scattergl\":[{\"type\":\"scattergl\",\"marker\":{\"colorbar\":{\"outlinewidth\":0,\"ticks\":\"\"}}}],\"scatter3d\":[{\"type\":\"scatter3d\",\"line\":{\"colorbar\":{\"outlinewidth\":0,\"ticks\":\"\"}},\"marker\":{\"colorbar\":{\"outlinewidth\":0,\"ticks\":\"\"}}}],\"scattermapbox\":[{\"type\":\"scattermapbox\",\"marker\":{\"colorbar\":{\"outlinewidth\":0,\"ticks\":\"\"}}}],\"scatterternary\":[{\"type\":\"scatterternary\",\"marker\":{\"colorbar\":{\"outlinewidth\":0,\"ticks\":\"\"}}}],\"scattercarpet\":[{\"type\":\"scattercarpet\",\"marker\":{\"colorbar\":{\"outlinewidth\":0,\"ticks\":\"\"}}}],\"carpet\":[{\"aaxis\":{\"endlinecolor\":\"#2a3f5f\",\"gridcolor\":\"white\",\"linecolor\":\"white\",\"minorgridcolor\":\"white\",\"startlinecolor\":\"#2a3f5f\"},\"baxis\":{\"endlinecolor\":\"#2a3f5f\",\"gridcolor\":\"white\",\"linecolor\":\"white\",\"minorgridcolor\":\"white\",\"startlinecolor\":\"#2a3f5f\"},\"type\":\"carpet\"}],\"table\":[{\"cells\":{\"fill\":{\"color\":\"#EBF0F8\"},\"line\":{\"color\":\"white\"}},\"header\":{\"fill\":{\"color\":\"#C8D4E3\"},\"line\":{\"color\":\"white\"}},\"type\":\"table\"}],\"barpolar\":[{\"marker\":{\"line\":{\"color\":\"#E5ECF6\",\"width\":0.5},\"pattern\":{\"fillmode\":\"overlay\",\"size\":10,\"solidity\":0.2}},\"type\":\"barpolar\"}],\"pie\":[{\"automargin\":true,\"type\":\"pie\"}]},\"layout\":{\"autotypenumbers\":\"strict\",\"colorway\":[\"#636efa\",\"#EF553B\",\"#00cc96\",\"#ab63fa\",\"#FFA15A\",\"#19d3f3\",\"#FF6692\",\"#B6E880\",\"#FF97FF\",\"#FECB52\"],\"font\":{\"color\":\"#2a3f5f\"},\"hovermode\":\"closest\",\"hoverlabel\":{\"align\":\"left\"},\"paper_bgcolor\":\"white\",\"plot_bgcolor\":\"#E5ECF6\",\"polar\":{\"bgcolor\":\"#E5ECF6\",\"angularaxis\":{\"gridcolor\":\"white\",\"linecolor\":\"white\",\"ticks\":\"\"},\"radialaxis\":{\"gridcolor\":\"white\",\"linecolor\":\"white\",\"ticks\":\"\"}},\"ternary\":{\"bgcolor\":\"#E5ECF6\",\"aaxis\":{\"gridcolor\":\"white\",\"linecolor\":\"white\",\"ticks\":\"\"},\"baxis\":{\"gridcolor\":\"white\",\"linecolor\":\"white\",\"ticks\":\"\"},\"caxis\":{\"gridcolor\":\"white\",\"linecolor\":\"white\",\"ticks\":\"\"}},\"coloraxis\":{\"colorbar\":{\"outlinewidth\":0,\"ticks\":\"\"}},\"colorscale\":{\"sequential\":[[0.0,\"#0d0887\"],[0.1111111111111111,\"#46039f\"],[0.2222222222222222,\"#7201a8\"],[0.3333333333333333,\"#9c179e\"],[0.4444444444444444,\"#bd3786\"],[0.5555555555555556,\"#d8576b\"],[0.6666666666666666,\"#ed7953\"],[0.7777777777777778,\"#fb9f3a\"],[0.8888888888888888,\"#fdca26\"],[1.0,\"#f0f921\"]],\"sequentialminus\":[[0.0,\"#0d0887\"],[0.1111111111111111,\"#46039f\"],[0.2222222222222222,\"#7201a8\"],[0.3333333333333333,\"#9c179e\"],[0.4444444444444444,\"#bd3786\"],[0.5555555555555556,\"#d8576b\"],[0.6666666666666666,\"#ed7953\"],[0.7777777777777778,\"#fb9f3a\"],[0.8888888888888888,\"#fdca26\"],[1.0,\"#f0f921\"]],\"diverging\":[[0,\"#8e0152\"],[0.1,\"#c51b7d\"],[0.2,\"#de77ae\"],[0.3,\"#f1b6da\"],[0.4,\"#fde0ef\"],[0.5,\"#f7f7f7\"],[0.6,\"#e6f5d0\"],[0.7,\"#b8e186\"],[0.8,\"#7fbc41\"],[0.9,\"#4d9221\"],[1,\"#276419\"]]},\"xaxis\":{\"gridcolor\":\"white\",\"linecolor\":\"white\",\"ticks\":\"\",\"title\":{\"standoff\":15},\"zerolinecolor\":\"white\",\"automargin\":true,\"zerolinewidth\":2},\"yaxis\":{\"gridcolor\":\"white\",\"linecolor\":\"white\",\"ticks\":\"\",\"title\":{\"standoff\":15},\"zerolinecolor\":\"white\",\"automargin\":true,\"zerolinewidth\":2},\"scene\":{\"xaxis\":{\"backgroundcolor\":\"#E5ECF6\",\"gridcolor\":\"white\",\"linecolor\":\"white\",\"showbackground\":true,\"ticks\":\"\",\"zerolinecolor\":\"white\",\"gridwidth\":2},\"yaxis\":{\"backgroundcolor\":\"#E5ECF6\",\"gridcolor\":\"white\",\"linecolor\":\"white\",\"showbackground\":true,\"ticks\":\"\",\"zerolinecolor\":\"white\",\"gridwidth\":2},\"zaxis\":{\"backgroundcolor\":\"#E5ECF6\",\"gridcolor\":\"white\",\"linecolor\":\"white\",\"showbackground\":true,\"ticks\":\"\",\"zerolinecolor\":\"white\",\"gridwidth\":2}},\"shapedefaults\":{\"line\":{\"color\":\"#2a3f5f\"}},\"annotationdefaults\":{\"arrowcolor\":\"#2a3f5f\",\"arrowhead\":0,\"arrowwidth\":1},\"geo\":{\"bgcolor\":\"white\",\"landcolor\":\"#E5ECF6\",\"subunitcolor\":\"white\",\"showland\":true,\"showlakes\":true,\"lakecolor\":\"white\"},\"title\":{\"x\":0.05},\"mapbox\":{\"style\":\"light\"}}},\"xaxis\":{\"anchor\":\"y\",\"domain\":[0.0,1.0],\"title\":{\"text\":\"Year\"}},\"yaxis\":{\"anchor\":\"x\",\"domain\":[0.0,1.0],\"title\":{\"text\":\"Revenue\"}},\"legend\":{\"tracegroupgap\":0},\"title\":{\"text\":\"Revenue Trend\"}},                        {\"responsive\": true}                    ).then(function(){\n",
       "                            \n",
       "var gd = document.getElementById('56661473-ecdb-4df0-b2d5-511a0b206812');\n",
       "var x = new MutationObserver(function (mutations, observer) {{\n",
       "        var display = window.getComputedStyle(gd).display;\n",
       "        if (!display || display === 'none') {{\n",
       "            console.log([gd, 'removed!']);\n",
       "            Plotly.purge(gd);\n",
       "            observer.disconnect();\n",
       "        }}\n",
       "}});\n",
       "\n",
       "// Listen for the removal of the full notebook cells\n",
       "var notebookContainer = gd.closest('#notebook-container');\n",
       "if (notebookContainer) {{\n",
       "    x.observe(notebookContainer, {childList: true});\n",
       "}}\n",
       "\n",
       "// Listen for the clearing of the current output cell\n",
       "var outputEl = gd.closest('.output');\n",
       "if (outputEl) {{\n",
       "    x.observe(outputEl, {childList: true});\n",
       "}}\n",
       "\n",
       "                        })                };                            </script>        </div>\n",
       "</body>\n",
       "</html>"
      ]
     },
     "metadata": {},
     "output_type": "display_data"
    }
   ],
   "source": [
    "fig = px.line(df_yearly, x='Year', y='Revenue', title='Revenue Trend',\n",
    "              markers=True, line_shape='spline')\n",
    "fig.update_traces(line=dict(color='#FF8000'))\n",
    "fig.show()"
   ]
  },
  {
   "cell_type": "markdown",
   "id": "763af609",
   "metadata": {
    "papermill": {
     "duration": 0.018238,
     "end_time": "2025-07-19T08:48:05.832541",
     "exception": false,
     "start_time": "2025-07-19T08:48:05.814303",
     "status": "completed"
    },
    "tags": []
   },
   "source": [
    "<a id=\"2\"></a>\n",
    "# <div style=\"text-align:center; border-radius:15px 50px; padding:15px; color:black; margin:0; font-size:100%; font-family:Arial; background-color:orange; overflow:hidden\"><b> ✨ Train Random Forest & Feature Importance ✨</b></div>"
   ]
  },
  {
   "cell_type": "code",
   "execution_count": 29,
   "id": "110f8051",
   "metadata": {
    "execution": {
     "iopub.execute_input": "2025-07-19T08:48:05.871804Z",
     "iopub.status.busy": "2025-07-19T08:48:05.871411Z",
     "iopub.status.idle": "2025-07-19T08:48:06.309786Z",
     "shell.execute_reply": "2025-07-19T08:48:06.308594Z"
    },
    "papermill": {
     "duration": 0.460223,
     "end_time": "2025-07-19T08:48:06.311422",
     "exception": false,
     "start_time": "2025-07-19T08:48:05.851199",
     "status": "completed"
    },
    "tags": []
   },
   "outputs": [
    {
     "name": "stdout",
     "output_type": "stream",
     "text": [
      "2021: 0.3436\n",
      "2022: 0.3822\n",
      "2023: 0.2742\n"
     ]
    }
   ],
   "source": [
    "from sklearn.ensemble import RandomForestRegressor\n",
    "\n",
    "rf = RandomForestRegressor(n_estimators=100, random_state=42)\n",
    "rf.fit(X_train, y_train)\n",
    "\n",
    "# Feature importance\n",
    "importances = rf.feature_importances_\n",
    "for feature, imp in zip(X.columns, importances):\n",
    "    print(f\"{feature}: {imp:.4f}\")"
   ]
  },
  {
   "cell_type": "markdown",
   "id": "3bd0a5b5",
   "metadata": {
    "papermill": {
     "duration": 0.019279,
     "end_time": "2025-07-19T08:48:06.350523",
     "exception": false,
     "start_time": "2025-07-19T08:48:06.331244",
     "status": "completed"
    },
    "tags": []
   },
   "source": [
    "<a id=\"2\"></a>\n",
    "# <div style=\"text-align:center; border-radius:15px 50px; padding:15px; color:black; margin:0; font-size:100%; font-family:Arial; background-color:orange; overflow:hidden\"><b> ✨ Cross-validation Score ✨</b></div>"
   ]
  },
  {
   "cell_type": "code",
   "execution_count": 30,
   "id": "2a1e0efd",
   "metadata": {
    "execution": {
     "iopub.execute_input": "2025-07-19T08:48:06.391134Z",
     "iopub.status.busy": "2025-07-19T08:48:06.390763Z",
     "iopub.status.idle": "2025-07-19T08:48:07.063556Z",
     "shell.execute_reply": "2025-07-19T08:48:07.062145Z"
    },
    "papermill": {
     "duration": 0.695523,
     "end_time": "2025-07-19T08:48:07.065415",
     "exception": false,
     "start_time": "2025-07-19T08:48:06.369892",
     "status": "completed"
    },
    "tags": []
   },
   "outputs": [
    {
     "name": "stdout",
     "output_type": "stream",
     "text": [
      "Cross-Validation R2 Scores: [0.97650098 0.97260283 0.91059387 0.53685899 0.65790045]\n",
      "Average R2 Score: 0.810891425478711\n"
     ]
    }
   ],
   "source": [
    "from sklearn.model_selection import cross_val_score\n",
    "\n",
    "cv_scores = cross_val_score(rf, X, y, cv=5, scoring='r2')\n",
    "print(\"Cross-Validation R2 Scores:\", cv_scores)\n",
    "print(\"Average R2 Score:\", cv_scores.mean())"
   ]
  },
  {
   "cell_type": "markdown",
   "id": "36d2a7a0",
   "metadata": {
    "papermill": {
     "duration": 0.02306,
     "end_time": "2025-07-19T08:48:07.117200",
     "exception": false,
     "start_time": "2025-07-19T08:48:07.094140",
     "status": "completed"
    },
    "tags": []
   },
   "source": [
    "<a id=\"2\"></a>\n",
    "# <div style=\"text-align:center; border-radius:15px 50px; padding:15px; color:black; margin:0; font-size:100%; font-family:Arial; background-color:orange; overflow:hidden\"><b> ✨ Predict and Evaluate Random Forest ✨</b></div>"
   ]
  },
  {
   "cell_type": "code",
   "execution_count": 31,
   "id": "41bacf54",
   "metadata": {
    "execution": {
     "iopub.execute_input": "2025-07-19T08:48:07.164966Z",
     "iopub.status.busy": "2025-07-19T08:48:07.164581Z",
     "iopub.status.idle": "2025-07-19T08:48:07.179018Z",
     "shell.execute_reply": "2025-07-19T08:48:07.177972Z"
    },
    "papermill": {
     "duration": 0.041171,
     "end_time": "2025-07-19T08:48:07.180616",
     "exception": false,
     "start_time": "2025-07-19T08:48:07.139445",
     "status": "completed"
    },
    "tags": []
   },
   "outputs": [
    {
     "name": "stdout",
     "output_type": "stream",
     "text": [
      "Random Forest R2 Score: 0.1539688027157149\n",
      "Random Forest MSE: 329438769.64819574\n"
     ]
    }
   ],
   "source": [
    "from sklearn.metrics import r2_score, mean_squared_error\n",
    "\n",
    "y_rf_pred = rf.predict(X_test)\n",
    "print(\"Random Forest R2 Score:\", r2_score(y_test, y_rf_pred))\n",
    "print(\"Random Forest MSE:\", mean_squared_error(y_test, y_rf_pred))"
   ]
  },
  {
   "cell_type": "markdown",
   "id": "845df2d2",
   "metadata": {
    "papermill": {
     "duration": 0.01969,
     "end_time": "2025-07-19T08:48:07.220608",
     "exception": false,
     "start_time": "2025-07-19T08:48:07.200918",
     "status": "completed"
    },
    "tags": []
   },
   "source": [
    "<a id=\"2\"></a>\n",
    "# <div style=\"text-align:center; border-radius:15px 50px; padding:15px; color:black; margin:0; font-size:100%; font-family:Arial; background-color:orange; overflow:hidden\"><b> ✨ Compare Linear vs Random Forest ✨</b></div>"
   ]
  },
  {
   "cell_type": "code",
   "execution_count": 32,
   "id": "55feabe8",
   "metadata": {
    "execution": {
     "iopub.execute_input": "2025-07-19T08:48:07.261617Z",
     "iopub.status.busy": "2025-07-19T08:48:07.261274Z",
     "iopub.status.idle": "2025-07-19T08:48:07.274382Z",
     "shell.execute_reply": "2025-07-19T08:48:07.273407Z"
    },
    "papermill": {
     "duration": 0.035886,
     "end_time": "2025-07-19T08:48:07.276010",
     "exception": false,
     "start_time": "2025-07-19T08:48:07.240124",
     "status": "completed"
    },
    "tags": []
   },
   "outputs": [
    {
     "data": {
      "text/html": [
       "<div>\n",
       "<style scoped>\n",
       "    .dataframe tbody tr th:only-of-type {\n",
       "        vertical-align: middle;\n",
       "    }\n",
       "\n",
       "    .dataframe tbody tr th {\n",
       "        vertical-align: top;\n",
       "    }\n",
       "\n",
       "    .dataframe thead th {\n",
       "        text-align: right;\n",
       "    }\n",
       "</style>\n",
       "<table border=\"1\" class=\"dataframe\">\n",
       "  <thead>\n",
       "    <tr style=\"text-align: right;\">\n",
       "      <th></th>\n",
       "      <th>Model</th>\n",
       "      <th>R2 Score</th>\n",
       "      <th>MSE</th>\n",
       "    </tr>\n",
       "  </thead>\n",
       "  <tbody>\n",
       "    <tr>\n",
       "      <th>0</th>\n",
       "      <td>Linear Regression</td>\n",
       "      <td>1.00</td>\n",
       "      <td>832625.80</td>\n",
       "    </tr>\n",
       "    <tr>\n",
       "      <th>1</th>\n",
       "      <td>Random Forest</td>\n",
       "      <td>0.15</td>\n",
       "      <td>329438769.65</td>\n",
       "    </tr>\n",
       "  </tbody>\n",
       "</table>\n",
       "</div>"
      ],
      "text/plain": [
       "               Model  R2 Score          MSE\n",
       "0  Linear Regression      1.00    832625.80\n",
       "1      Random Forest      0.15 329438769.65"
      ]
     },
     "execution_count": 32,
     "metadata": {},
     "output_type": "execute_result"
    }
   ],
   "source": [
    "lr_r2 = r2_score(y_test, y_pred)  # from earlier\n",
    "rf_r2 = r2_score(y_test, y_rf_pred)\n",
    "\n",
    "compare_df = pd.DataFrame({\n",
    "    'Model': ['Linear Regression', 'Random Forest'],\n",
    "    'R2 Score': [lr_r2, rf_r2],\n",
    "    'MSE': [mean_squared_error(y_test, y_pred), mean_squared_error(y_test, y_rf_pred)]\n",
    "})\n",
    "\n",
    "compare_df"
   ]
  },
  {
   "cell_type": "markdown",
   "id": "e11eab2b",
   "metadata": {
    "papermill": {
     "duration": 0.019934,
     "end_time": "2025-07-19T08:48:07.316467",
     "exception": false,
     "start_time": "2025-07-19T08:48:07.296533",
     "status": "completed"
    },
    "tags": []
   },
   "source": [
    "<a id=\"2\"></a>\n",
    "# <div style=\"text-align:center; border-radius:15px 50px; padding:15px; color:black; margin:0; font-size:100%; font-family:Arial; background-color:orange; overflow:hidden\"><b> ✨ Save Random Forest Model ✨</b></div>"
   ]
  },
  {
   "cell_type": "code",
   "execution_count": 33,
   "id": "27c49b26",
   "metadata": {
    "execution": {
     "iopub.execute_input": "2025-07-19T08:48:07.358424Z",
     "iopub.status.busy": "2025-07-19T08:48:07.357764Z",
     "iopub.status.idle": "2025-07-19T08:48:07.390083Z",
     "shell.execute_reply": "2025-07-19T08:48:07.388951Z"
    },
    "papermill": {
     "duration": 0.05523,
     "end_time": "2025-07-19T08:48:07.391811",
     "exception": false,
     "start_time": "2025-07-19T08:48:07.336581",
     "status": "completed"
    },
    "tags": []
   },
   "outputs": [
    {
     "name": "stdout",
     "output_type": "stream",
     "text": [
      "Model saved as mcd_rf_model.pkl\n"
     ]
    }
   ],
   "source": [
    "import joblib\n",
    "joblib.dump(rf, 'mcd_rf_model.pkl')\n",
    "print(\"Model saved as mcd_rf_model.pkl\")"
   ]
  },
  {
   "cell_type": "markdown",
   "id": "e3356a49",
   "metadata": {
    "papermill": {
     "duration": 0.019366,
     "end_time": "2025-07-19T08:48:07.430775",
     "exception": false,
     "start_time": "2025-07-19T08:48:07.411409",
     "status": "completed"
    },
    "tags": []
   },
   "source": [
    "<a id=\"2\"></a>\n",
    "# <div style=\"text-align:center; border-radius:15px 50px; padding:15px; color:black; margin:0; font-size:100%; font-family:Arial; background-color:orange; overflow:hidden\"><b> ✨ Feature Importance Barplot ✨</b></div>"
   ]
  },
  {
   "cell_type": "code",
   "execution_count": 34,
   "id": "fbfecfc6",
   "metadata": {
    "execution": {
     "iopub.execute_input": "2025-07-19T08:48:07.472653Z",
     "iopub.status.busy": "2025-07-19T08:48:07.472275Z",
     "iopub.status.idle": "2025-07-19T08:48:07.694645Z",
     "shell.execute_reply": "2025-07-19T08:48:07.693509Z"
    },
    "papermill": {
     "duration": 0.246375,
     "end_time": "2025-07-19T08:48:07.696461",
     "exception": false,
     "start_time": "2025-07-19T08:48:07.450086",
     "status": "completed"
    },
    "tags": []
   },
   "outputs": [
    {
     "data": {
      "image/png": "[encoded data removed]",
      "text/plain": [
       "<Figure size 640x480 with 1 Axes>"
      ]
     },
     "metadata": {},
     "output_type": "display_data"
    }
   ],
   "source": [
    "import seaborn as sns\n",
    "import matplotlib.pyplot as plt\n",
    "\n",
    "sns.barplot(x=importances, y=X.columns, palette='Blues_r')\n",
    "plt.title(\"Feature Importance (Random Forest)\")\n",
    "plt.show()"
   ]
  },
  {
   "cell_type": "markdown",
   "id": "dcc0724b",
   "metadata": {
    "papermill": {
     "duration": 0.019444,
     "end_time": "2025-07-19T08:48:07.736272",
     "exception": false,
     "start_time": "2025-07-19T08:48:07.716828",
     "status": "completed"
    },
    "tags": []
   },
   "source": [
    "<a id=\"2\"></a>\n",
    "# <div style=\"text-align:center; border-radius:15px 50px; padding:15px; color:black; margin:0; font-size:100%; font-family:Arial; background-color:orange; overflow:hidden\"><b> ✨ Predict Hypothetical Future Row ✨</b></div>"
   ]
  },
  {
   "cell_type": "code",
   "execution_count": 35,
   "id": "0a3a78c2",
   "metadata": {
    "execution": {
     "iopub.execute_input": "2025-07-19T08:48:07.777058Z",
     "iopub.status.busy": "2025-07-19T08:48:07.776639Z",
     "iopub.status.idle": "2025-07-19T08:48:07.791220Z",
     "shell.execute_reply": "2025-07-19T08:48:07.790066Z"
    },
    "papermill": {
     "duration": 0.036999,
     "end_time": "2025-07-19T08:48:07.792895",
     "exception": false,
     "start_time": "2025-07-19T08:48:07.755896",
     "status": "completed"
    },
    "tags": []
   },
   "outputs": [
    {
     "name": "stdout",
     "output_type": "stream",
     "text": [
      "Predicted 2024 Revenue: 2984.85\n"
     ]
    }
   ],
   "source": [
    "new_data = pd.DataFrame({'2021': [3000], '2022': [3500], '2023': [4000]})\n",
    "predicted_2024 = rf.predict(new_data)\n",
    "print(\"Predicted 2024 Revenue:\", predicted_2024[0])"
   ]
  },
  {
   "cell_type": "markdown",
   "id": "16873a6c",
   "metadata": {
    "papermill": {
     "duration": 0.019132,
     "end_time": "2025-07-19T08:48:07.831555",
     "exception": false,
     "start_time": "2025-07-19T08:48:07.812423",
     "status": "completed"
    },
    "tags": []
   },
   "source": [
    "<a id=\"2\"></a>\n",
    "# <div style=\"text-align:center; border-radius:15px 50px; padding:15px; color:black; margin:0; font-size:100%; font-family:Arial; background-color:orange; overflow:hidden\"><b> ✨ Export Cleaned Data ✨</b></div>"
   ]
  },
  {
   "cell_type": "code",
   "execution_count": 36,
   "id": "51d2e2eb",
   "metadata": {
    "execution": {
     "iopub.execute_input": "2025-07-19T08:48:07.871565Z",
     "iopub.status.busy": "2025-07-19T08:48:07.871244Z",
     "iopub.status.idle": "2025-07-19T08:48:09.975384Z",
     "shell.execute_reply": "2025-07-19T08:48:09.974383Z"
    },
    "papermill": {
     "duration": 2.126084,
     "end_time": "2025-07-19T08:48:09.976959",
     "exception": false,
     "start_time": "2025-07-19T08:48:07.850875",
     "status": "completed"
    },
    "tags": []
   },
   "outputs": [
    {
     "name": "stdout",
     "output_type": "stream",
     "text": [
      "Cleaned data exported.\n"
     ]
    }
   ],
   "source": [
    "df.to_csv('cleaned_mcdonalds_data.csv', index=False)\n",
    "print(\"Cleaned data exported.\")"
   ]
  },
  {
   "cell_type": "markdown",
   "id": "7c784b61",
   "metadata": {
    "papermill": {
     "duration": 0.019474,
     "end_time": "2025-07-19T08:48:10.015970",
     "exception": false,
     "start_time": "2025-07-19T08:48:09.996496",
     "status": "completed"
    },
    "tags": []
   },
   "source": [
    "<a id=\"2\"></a>\n",
    "# <div style=\"text-align:center; border-radius:15px 50px; padding:15px; color:black; margin:0; font-size:100%; font-family:Arial; background-color:orange; overflow:hidden\"><b> ✨ Interactive Plot with Plotly ✨</b></div>"
   ]
  },
  {
   "cell_type": "code",
   "execution_count": 37,
   "id": "ac3fe5b9",
   "metadata": {
    "execution": {
     "iopub.execute_input": "2025-07-19T08:48:10.057031Z",
     "iopub.status.busy": "2025-07-19T08:48:10.056631Z",
     "iopub.status.idle": "2025-07-19T08:48:10.202542Z",
     "shell.execute_reply": "2025-07-19T08:48:10.201541Z"
    },
    "papermill": {
     "duration": 0.168454,
     "end_time": "2025-07-19T08:48:10.204315",
     "exception": false,
     "start_time": "2025-07-19T08:48:10.035861",
     "status": "completed"
    },
    "tags": []
   },
   "outputs": [
    {
     "data": {
      "text/html": [
       "<html>\n",
       "<head><meta charset=\"utf-8\" /></head>\n",
       "<body>\n",
       "    <div>            <script src=\"https://cdnjs.cloudflare.com/ajax/libs/mathjax/2.7.5/MathJax.js?config=TeX-AMS-MML_SVG\"></script><script type=\"text/javascript\">if (window.MathJax && window.MathJax.Hub && window.MathJax.Hub.Config) {window.MathJax.Hub.Config({SVG: {font: \"STIX-Web\"}});}</script>                <script type=\"text/javascript\">window.PlotlyConfig = {MathJaxConfig: 'local'};</script>\n",
       "        <script charset=\"utf-8\" src=\"https://cdn.plot.ly/plotly-2.35.2.min.js\"></script>                <div id=\"be132240-dc31-4a48-9782-7354418faa56\" class=\"plotly-graph-div\" style=\"height:525px; width:100%;\"></div>            <script type=\"text/javascript\">                                    window.PLOTLYENV=window.PLOTLYENV || {};                                    if (document.getElementById(\"be132240-dc31-4a48-9782-7354418faa56\")) {                    Plotly.newPlot(                        \"be132240-dc31-4a48-9782-7354418faa56\",                        [{\"alignmentgroup\":\"True\",\"hovertemplate\":\"Year=%{x}\\u003cbr\\u003eRevenue=%{text}\\u003cextra\\u003e\\u003c\\u002fextra\\u003e\",\"legendgroup\":\"2021\",\"marker\":{\"color\":\"#FF8000\",\"pattern\":{\"shape\":\"\"}},\"name\":\"2021\",\"offsetgroup\":\"2021\",\"orientation\":\"v\",\"showlegend\":true,\"text\":[189442.69999999998],\"textposition\":\"outside\",\"x\":[\"2021\"],\"xaxis\":\"x\",\"y\":[189442.69999999998],\"yaxis\":\"y\",\"type\":\"bar\"},{\"alignmentgroup\":\"True\",\"hovertemplate\":\"Year=%{x}\\u003cbr\\u003eRevenue=%{text}\\u003cextra\\u003e\\u003c\\u002fextra\\u003e\",\"legendgroup\":\"2022\",\"marker\":{\"color\":\"#FF8000\",\"pattern\":{\"shape\":\"\"}},\"name\":\"2022\",\"offsetgroup\":\"2022\",\"orientation\":\"v\",\"showlegend\":true,\"text\":[173183.38],\"textposition\":\"outside\",\"x\":[\"2022\"],\"xaxis\":\"x\",\"y\":[173183.38],\"yaxis\":\"y\",\"type\":\"bar\"},{\"alignmentgroup\":\"True\",\"hovertemplate\":\"Year=%{x}\\u003cbr\\u003eRevenue=%{text}\\u003cextra\\u003e\\u003c\\u002fextra\\u003e\",\"legendgroup\":\"2023\",\"marker\":{\"color\":\"#FF8000\",\"pattern\":{\"shape\":\"\"}},\"name\":\"2023\",\"offsetgroup\":\"2023\",\"orientation\":\"v\",\"showlegend\":true,\"text\":[202377.0],\"textposition\":\"outside\",\"x\":[\"2023\"],\"xaxis\":\"x\",\"y\":[202377.0],\"yaxis\":\"y\",\"type\":\"bar\"},{\"alignmentgroup\":\"True\",\"hovertemplate\":\"Year=%{x}\\u003cbr\\u003eRevenue=%{text}\\u003cextra\\u003e\\u003c\\u002fextra\\u003e\",\"legendgroup\":\"2024\",\"marker\":{\"color\":\"#FF8000\",\"pattern\":{\"shape\":\"\"}},\"name\":\"2024\",\"offsetgroup\":\"2024\",\"orientation\":\"v\",\"showlegend\":true,\"text\":[188903.82],\"textposition\":\"outside\",\"x\":[\"2024\"],\"xaxis\":\"x\",\"y\":[188903.82],\"yaxis\":\"y\",\"type\":\"bar\"}],                        {\"template\":{\"data\":{\"histogram2dcontour\":[{\"type\":\"histogram2dcontour\",\"colorbar\":{\"outlinewidth\":0,\"ticks\":\"\"},\"colorscale\":[[0.0,\"#0d0887\"],[0.1111111111111111,\"#46039f\"],[0.2222222222222222,\"#7201a8\"],[0.3333333333333333,\"#9c179e\"],[0.4444444444444444,\"#bd3786\"],[0.5555555555555556,\"#d8576b\"],[0.6666666666666666,\"#ed7953\"],[0.7777777777777778,\"#fb9f3a\"],[0.8888888888888888,\"#fdca26\"],[1.0,\"#f0f921\"]]}],\"choropleth\":[{\"type\":\"choropleth\",\"colorbar\":{\"outlinewidth\":0,\"ticks\":\"\"}}],\"histogram2d\":[{\"type\":\"histogram2d\",\"colorbar\":{\"outlinewidth\":0,\"ticks\":\"\"},\"colorscale\":[[0.0,\"#0d0887\"],[0.1111111111111111,\"#46039f\"],[0.2222222222222222,\"#7201a8\"],[0.3333333333333333,\"#9c179e\"],[0.4444444444444444,\"#bd3786\"],[0.5555555555555556,\"#d8576b\"],[0.6666666666666666,\"#ed7953\"],[0.7777777777777778,\"#fb9f3a\"],[0.8888888888888888,\"#fdca26\"],[1.0,\"#f0f921\"]]}],\"heatmap\":[{\"type\":\"heatmap\",\"colorbar\":{\"outlinewidth\":0,\"ticks\":\"\"},\"colorscale\":[[0.0,\"#0d0887\"],[0.1111111111111111,\"#46039f\"],[0.2222222222222222,\"#7201a8\"],[0.3333333333333333,\"#9c179e\"],[0.4444444444444444,\"#bd3786\"],[0.5555555555555556,\"#d8576b\"],[0.6666666666666666,\"#ed7953\"],[0.7777777777777778,\"#fb9f3a\"],[0.8888888888888888,\"#fdca26\"],[1.0,\"#f0f921\"]]}],\"heatmapgl\":[{\"type\":\"heatmapgl\",\"colorbar\":{\"outlinewidth\":0,\"ticks\":\"\"},\"colorscale\":[[0.0,\"#0d0887\"],[0.1111111111111111,\"#46039f\"],[0.2222222222222222,\"#7201a8\"],[0.3333333333333333,\"#9c179e\"],[0.4444444444444444,\"#bd3786\"],[0.5555555555555556,\"#d8576b\"],[0.6666666666666666,\"#ed7953\"],[0.7777777777777778,\"#fb9f3a\"],[0.8888888888888888,\"#fdca26\"],[1.0,\"#f0f921\"]]}],\"contourcarpet\":[{\"type\":\"contourcarpet\",\"colorbar\":{\"outlinewidth\":0,\"ticks\":\"\"}}],\"contour\":[{\"type\":\"contour\",\"colorbar\":{\"outlinewidth\":0,\"ticks\":\"\"},\"colorscale\":[[0.0,\"#0d0887\"],[0.1111111111111111,\"#46039f\"],[0.2222222222222222,\"#7201a8\"],[0.3333333333333333,\"#9c179e\"],[0.4444444444444444,\"#bd3786\"],[0.5555555555555556,\"#d8576b\"],[0.6666666666666666,\"#ed7953\"],[0.7777777777777778,\"#fb9f3a\"],[0.8888888888888888,\"#fdca26\"],[1.0,\"#f0f921\"]]}],\"surface\":[{\"type\":\"surface\",\"colorbar\":{\"outlinewidth\":0,\"ticks\":\"\"},\"colorscale\":[[0.0,\"#0d0887\"],[0.1111111111111111,\"#46039f\"],[0.2222222222222222,\"#7201a8\"],[0.3333333333333333,\"#9c179e\"],[0.4444444444444444,\"#bd3786\"],[0.5555555555555556,\"#d8576b\"],[0.6666666666666666,\"#ed7953\"],[0.7777777777777778,\"#fb9f3a\"],[0.8888888888888888,\"#fdca26\"],[1.0,\"#f0f921\"]]}],\"mesh3d\":[{\"type\":\"mesh3d\",\"colorbar\":{\"outlinewidth\":0,\"ticks\":\"\"}}],\"scatter\":[{\"fillpattern\":{\"fillmode\":\"overlay\",\"size\":10,\"solidity\":0.2},\"type\":\"scatter\"}],\"parcoords\":[{\"type\":\"parcoords\",\"line\":{\"colorbar\":{\"outlinewidth\":0,\"ticks\":\"\"}}}],\"scatterpolargl\":[{\"type\":\"scatterpolargl\",\"marker\":{\"colorbar\":{\"outlinewidth\":0,\"ticks\":\"\"}}}],\"bar\":[{\"error_x\":{\"color\":\"#2a3f5f\"},\"error_y\":{\"color\":\"#2a3f5f\"},\"marker\":{\"line\":{\"color\":\"#E5ECF6\",\"width\":0.5},\"pattern\":{\"fillmode\":\"overlay\",\"size\":10,\"solidity\":0.2}},\"type\":\"bar\"}],\"scattergeo\":[{\"type\":\"scattergeo\",\"marker\":{\"colorbar\":{\"outlinewidth\":0,\"ticks\":\"\"}}}],\"scatterpolar\":[{\"type\":\"scatterpolar\",\"marker\":{\"colorbar\":{\"outlinewidth\":0,\"ticks\":\"\"}}}],\"histogram\":[{\"marker\":{\"pattern\":{\"fillmode\":\"overlay\",\"size\":10,\"solidity\":0.2}},\"type\":\"histogram\"}],\"scattergl\":[{\"type\":\"scattergl\",\"marker\":{\"colorbar\":{\"outlinewidth\":0,\"ticks\":\"\"}}}],\"scatter3d\":[{\"type\":\"scatter3d\",\"line\":{\"colorbar\":{\"outlinewidth\":0,\"ticks\":\"\"}},\"marker\":{\"colorbar\":{\"outlinewidth\":0,\"ticks\":\"\"}}}],\"scattermapbox\":[{\"type\":\"scattermapbox\",\"marker\":{\"colorbar\":{\"outlinewidth\":0,\"ticks\":\"\"}}}],\"scatterternary\":[{\"type\":\"scatterternary\",\"marker\":{\"colorbar\":{\"outlinewidth\":0,\"ticks\":\"\"}}}],\"scattercarpet\":[{\"type\":\"scattercarpet\",\"marker\":{\"colorbar\":{\"outlinewidth\":0,\"ticks\":\"\"}}}],\"carpet\":[{\"aaxis\":{\"endlinecolor\":\"#2a3f5f\",\"gridcolor\":\"white\",\"linecolor\":\"white\",\"minorgridcolor\":\"white\",\"startlinecolor\":\"#2a3f5f\"},\"baxis\":{\"endlinecolor\":\"#2a3f5f\",\"gridcolor\":\"white\",\"linecolor\":\"white\",\"minorgridcolor\":\"white\",\"startlinecolor\":\"#2a3f5f\"},\"type\":\"carpet\"}],\"table\":[{\"cells\":{\"fill\":{\"color\":\"#EBF0F8\"},\"line\":{\"color\":\"white\"}},\"header\":{\"fill\":{\"color\":\"#C8D4E3\"},\"line\":{\"color\":\"white\"}},\"type\":\"table\"}],\"barpolar\":[{\"marker\":{\"line\":{\"color\":\"#E5ECF6\",\"width\":0.5},\"pattern\":{\"fillmode\":\"overlay\",\"size\":10,\"solidity\":0.2}},\"type\":\"barpolar\"}],\"pie\":[{\"automargin\":true,\"type\":\"pie\"}]},\"layout\":{\"autotypenumbers\":\"strict\",\"colorway\":[\"#636efa\",\"#EF553B\",\"#00cc96\",\"#ab63fa\",\"#FFA15A\",\"#19d3f3\",\"#FF6692\",\"#B6E880\",\"#FF97FF\",\"#FECB52\"],\"font\":{\"color\":\"#2a3f5f\"},\"hovermode\":\"closest\",\"hoverlabel\":{\"align\":\"left\"},\"paper_bgcolor\":\"white\",\"plot_bgcolor\":\"#E5ECF6\",\"polar\":{\"bgcolor\":\"#E5ECF6\",\"angularaxis\":{\"gridcolor\":\"white\",\"linecolor\":\"white\",\"ticks\":\"\"},\"radialaxis\":{\"gridcolor\":\"white\",\"linecolor\":\"white\",\"ticks\":\"\"}},\"ternary\":{\"bgcolor\":\"#E5ECF6\",\"aaxis\":{\"gridcolor\":\"white\",\"linecolor\":\"white\",\"ticks\":\"\"},\"baxis\":{\"gridcolor\":\"white\",\"linecolor\":\"white\",\"ticks\":\"\"},\"caxis\":{\"gridcolor\":\"white\",\"linecolor\":\"white\",\"ticks\":\"\"}},\"coloraxis\":{\"colorbar\":{\"outlinewidth\":0,\"ticks\":\"\"}},\"colorscale\":{\"sequential\":[[0.0,\"#0d0887\"],[0.1111111111111111,\"#46039f\"],[0.2222222222222222,\"#7201a8\"],[0.3333333333333333,\"#9c179e\"],[0.4444444444444444,\"#bd3786\"],[0.5555555555555556,\"#d8576b\"],[0.6666666666666666,\"#ed7953\"],[0.7777777777777778,\"#fb9f3a\"],[0.8888888888888888,\"#fdca26\"],[1.0,\"#f0f921\"]],\"sequentialminus\":[[0.0,\"#0d0887\"],[0.1111111111111111,\"#46039f\"],[0.2222222222222222,\"#7201a8\"],[0.3333333333333333,\"#9c179e\"],[0.4444444444444444,\"#bd3786\"],[0.5555555555555556,\"#d8576b\"],[0.6666666666666666,\"#ed7953\"],[0.7777777777777778,\"#fb9f3a\"],[0.8888888888888888,\"#fdca26\"],[1.0,\"#f0f921\"]],\"diverging\":[[0,\"#8e0152\"],[0.1,\"#c51b7d\"],[0.2,\"#de77ae\"],[0.3,\"#f1b6da\"],[0.4,\"#fde0ef\"],[0.5,\"#f7f7f7\"],[0.6,\"#e6f5d0\"],[0.7,\"#b8e186\"],[0.8,\"#7fbc41\"],[0.9,\"#4d9221\"],[1,\"#276419\"]]},\"xaxis\":{\"gridcolor\":\"white\",\"linecolor\":\"white\",\"ticks\":\"\",\"title\":{\"standoff\":15},\"zerolinecolor\":\"white\",\"automargin\":true,\"zerolinewidth\":2},\"yaxis\":{\"gridcolor\":\"white\",\"linecolor\":\"white\",\"ticks\":\"\",\"title\":{\"standoff\":15},\"zerolinecolor\":\"white\",\"automargin\":true,\"zerolinewidth\":2},\"scene\":{\"xaxis\":{\"backgroundcolor\":\"#E5ECF6\",\"gridcolor\":\"white\",\"linecolor\":\"white\",\"showbackground\":true,\"ticks\":\"\",\"zerolinecolor\":\"white\",\"gridwidth\":2},\"yaxis\":{\"backgroundcolor\":\"#E5ECF6\",\"gridcolor\":\"white\",\"linecolor\":\"white\",\"showbackground\":true,\"ticks\":\"\",\"zerolinecolor\":\"white\",\"gridwidth\":2},\"zaxis\":{\"backgroundcolor\":\"#E5ECF6\",\"gridcolor\":\"white\",\"linecolor\":\"white\",\"showbackground\":true,\"ticks\":\"\",\"zerolinecolor\":\"white\",\"gridwidth\":2}},\"shapedefaults\":{\"line\":{\"color\":\"#2a3f5f\"}},\"annotationdefaults\":{\"arrowcolor\":\"#2a3f5f\",\"arrowhead\":0,\"arrowwidth\":1},\"geo\":{\"bgcolor\":\"white\",\"landcolor\":\"#E5ECF6\",\"subunitcolor\":\"white\",\"showland\":true,\"showlakes\":true,\"lakecolor\":\"white\"},\"title\":{\"x\":0.05},\"mapbox\":{\"style\":\"light\"}}},\"xaxis\":{\"anchor\":\"y\",\"domain\":[0.0,1.0],\"title\":{\"text\":\"Year\"},\"categoryorder\":\"array\",\"categoryarray\":[\"2021\",\"2022\",\"2023\",\"2024\"]},\"yaxis\":{\"anchor\":\"x\",\"domain\":[0.0,1.0],\"title\":{\"text\":\"Revenue\"}},\"legend\":{\"title\":{\"text\":\"Year\"},\"tracegroupgap\":0},\"title\":{\"text\":\"McDonald's Revenue (2021-2024)\"},\"barmode\":\"relative\"},                        {\"responsive\": true}                    ).then(function(){\n",
       "                            \n",
       "var gd = document.getElementById('be132240-dc31-4a48-9782-7354418faa56');\n",
       "var x = new MutationObserver(function (mutations, observer) {{\n",
       "        var display = window.getComputedStyle(gd).display;\n",
       "        if (!display || display === 'none') {{\n",
       "            console.log([gd, 'removed!']);\n",
       "            Plotly.purge(gd);\n",
       "            observer.disconnect();\n",
       "        }}\n",
       "}});\n",
       "\n",
       "// Listen for the removal of the full notebook cells\n",
       "var notebookContainer = gd.closest('#notebook-container');\n",
       "if (notebookContainer) {{\n",
       "    x.observe(notebookContainer, {childList: true});\n",
       "}}\n",
       "\n",
       "// Listen for the clearing of the current output cell\n",
       "var outputEl = gd.closest('.output');\n",
       "if (outputEl) {{\n",
       "    x.observe(outputEl, {childList: true});\n",
       "}}\n",
       "\n",
       "                        })                };                            </script>        </div>\n",
       "</body>\n",
       "</html>"
      ]
     },
     "metadata": {},
     "output_type": "display_data"
    }
   ],
   "source": [
    "import plotly.express as px\n",
    "\n",
    "df_yearly = df[['2021', '2022', '2023', '2024']].sum().reset_index()\n",
    "df_yearly.columns = ['Year', 'Revenue']\n",
    "\n",
    "fig = px.bar(df_yearly, x='Year', y='Revenue', title=\"McDonald's Revenue (2021-2024)\",\n",
    "             text='Revenue', color='Year')\n",
    "fig.update_traces(marker_color='#FF8000', textposition='outside')\n",
    "fig.show()"
   ]
  },
  {
   "cell_type": "markdown",
   "id": "51eadd7a",
   "metadata": {
    "papermill": {
     "duration": 0.020088,
     "end_time": "2025-07-19T08:48:10.244973",
     "exception": false,
     "start_time": "2025-07-19T08:48:10.224885",
     "status": "completed"
    },
    "tags": []
   },
   "source": [
    "<a id=\"2\"></a>\n",
    "# <div style=\"text-align:center; border-radius:15px 50px; padding:15px; color:black; margin:0; font-size:100%; font-family:Arial; background-color:orange; overflow:hidden\"><b> ✨ Export Evaluation Summary ✨</b></div>"
   ]
  },
  {
   "cell_type": "code",
   "execution_count": 38,
   "id": "211f55ec",
   "metadata": {
    "execution": {
     "iopub.execute_input": "2025-07-19T08:48:10.287896Z",
     "iopub.status.busy": "2025-07-19T08:48:10.286923Z",
     "iopub.status.idle": "2025-07-19T08:48:10.296890Z",
     "shell.execute_reply": "2025-07-19T08:48:10.295850Z"
    },
    "papermill": {
     "duration": 0.033184,
     "end_time": "2025-07-19T08:48:10.298387",
     "exception": false,
     "start_time": "2025-07-19T08:48:10.265203",
     "status": "completed"
    },
    "tags": []
   },
   "outputs": [
    {
     "name": "stdout",
     "output_type": "stream",
     "text": [
      "Evaluation summary exported as CSV.\n"
     ]
    }
   ],
   "source": [
    "evaluation = pd.DataFrame({\n",
    "    'Metric': ['R2 Score', 'Mean Squared Error'],\n",
    "    'Linear Regression': [lr_r2, mean_squared_error(y_test, y_pred)],\n",
    "    'Random Forest': [rf_r2, mean_squared_error(y_test, y_rf_pred)]\n",
    "})\n",
    "evaluation.to_csv('evaluation_summary.csv', index=False)\n",
    "print(\"Evaluation summary exported as CSV.\")"
   ]
  },
  {
   "cell_type": "markdown",
   "id": "50b9d906",
   "metadata": {
    "papermill": {
     "duration": 0.020655,
     "end_time": "2025-07-19T08:48:10.339430",
     "exception": false,
     "start_time": "2025-07-19T08:48:10.318775",
     "status": "completed"
    },
    "tags": []
   },
   "source": [
    "<a id=\"2\"></a>\n",
    "# <div style=\"text-align:center; border-radius:15px 50px; padding:15px; color:black; margin:0; font-size:100%; font-family:Arial; background-color:orange; overflow:hidden\"><b> ✨ Executive Summary ✨</b></div>"
   ]
  },
  {
   "cell_type": "markdown",
   "id": "242d93ea",
   "metadata": {
    "papermill": {
     "duration": 0.020013,
     "end_time": "2025-07-19T08:48:10.379654",
     "exception": false,
     "start_time": "2025-07-19T08:48:10.359641",
     "status": "completed"
    },
    "tags": []
   },
   "source": [
    "## 🔍 Executive Summary\n",
    "\n",
    "This notebook analyzed McDonald's revenue breakdown from 2021 to 2024 using both Exploratory Data Analysis (EDA) and Machine Learning (ML). Key takeaways:\n",
    "\n",
    "- 📊 Revenue has shown a consistent upward trend over the 4 years.\n",
    "- 🏪 Franchised operations contribute more to total revenue than company-operated segments.\n",
    "- 🤖 We used **Linear Regression** and **Random Forest** models to predict 2024 revenue.\n",
    "- 🧠 The **Random Forest model** outperformed Linear Regression, achieving a higher R² score and lower error.\n",
    "- 📌 Predictive modeling is feasible for estimating future revenue based on historical data.\n",
    "\n",
    "This analysis can help stakeholders make informed decisions based on data-driven revenue forecasting.\n"
   ]
  },
  {
   "cell_type": "markdown",
   "id": "df8b11bb",
   "metadata": {
    "papermill": {
     "duration": 0.020184,
     "end_time": "2025-07-19T08:48:10.420116",
     "exception": false,
     "start_time": "2025-07-19T08:48:10.399932",
     "status": "completed"
    },
    "tags": []
   },
   "source": [
    "<a id=\"2\"></a>\n",
    "# <div style=\"text-align:center; border-radius:15px 50px; padding:15px; color:black; margin:0; font-size:100%; font-family:Arial; background-color:orange; overflow:hidden\"><b> ✨ Final Remarks & Next Steps ✨</b></div>"
   ]
  },
  {
   "cell_type": "code",
   "execution_count": 39,
   "id": "8138d00c",
   "metadata": {
    "execution": {
     "iopub.execute_input": "2025-07-19T08:48:10.462882Z",
     "iopub.status.busy": "2025-07-19T08:48:10.462415Z",
     "iopub.status.idle": "2025-07-19T08:48:10.468509Z",
     "shell.execute_reply": "2025-07-19T08:48:10.467132Z"
    },
    "papermill": {
     "duration": 0.029145,
     "end_time": "2025-07-19T08:48:10.470106",
     "exception": false,
     "start_time": "2025-07-19T08:48:10.440961",
     "status": "completed"
    },
    "tags": []
   },
   "outputs": [
    {
     "name": "stdout",
     "output_type": "stream",
     "text": [
      "\n",
      "✅ Notebook Completed!\n",
      "\n",
      "Next Steps to Improve the Project:\n",
      "- Add external data like inflation, marketing spend, or market growth.\n",
      "- Use more advanced models like XGBoost or Gradient Boosting Regressor.\n",
      "- Deploy this model using Streamlit or Flask for business use.\n",
      "\n",
      "Thank you for exploring this notebook! 🚀\n",
      "\n"
     ]
    }
   ],
   "source": [
    "print(\"\"\"\n",
    "✅ Notebook Completed!\n",
    "\n",
    "Next Steps to Improve the Project:\n",
    "- Add external data like inflation, marketing spend, or market growth.\n",
    "- Use more advanced models like XGBoost or Gradient Boosting Regressor.\n",
    "- Deploy this model using Streamlit or Flask for business use.\n",
    "\n",
    "Thank you for exploring this notebook! 🚀\n",
    "\"\"\")"
   ]
  },
  {
   "cell_type": "markdown",
   "id": "e77e23b8",
   "metadata": {
    "papermill": {
     "duration": 0.019874,
     "end_time": "2025-07-19T08:48:10.510427",
     "exception": false,
     "start_time": "2025-07-19T08:48:10.490553",
     "status": "completed"
    },
    "tags": []
   },
   "source": [
    "## 📓 Project Author: **Waqar Ali**  \n",
    "### 📅 Created on: **July 19, 2025**\n",
    "\n"
   ]
  },
  {
   "cell_type": "markdown",
   "id": "0c9fe9b5",
   "metadata": {
    "papermill": {
     "duration": 0.019684,
     "end_time": "2025-07-19T08:48:10.550218",
     "exception": false,
     "start_time": "2025-07-19T08:48:10.530534",
     "status": "completed"
    },
    "tags": []
   },
   "source": [
    "<a id=\"2\"></a>\n",
    "# <div style=\"text-align:center; border-radius:15px 50px; padding:15px; color:black; margin:0; font-size:100%; font-family:Arial; background-color:orange; overflow:hidden\"><b> ✨ Thank You ✨</b></div>"
   ]
  }
 ],
 "metadata": {
  "kaggle": {
   "accelerator": "none",
   "dataSources": [
    {
     "datasetId": 7826218,
     "sourceId": 12409914,
     "sourceType": "datasetVersion"
    }
   ],
   "dockerImageVersionId": 31089,
   "isGpuEnabled": false,
   "isInternetEnabled": true,
   "language": "python",
   "sourceType": "notebook"
  },
  "kernelspec": {
   "display_name": "Python 3",
   "language": "python",
   "name": "python3"
  },
  "language_info": {
   "codemirror_mode": {
    "name": "ipython",
    "version": 3
   },
   "file_extension": ".py",
   "mimetype": "text/x-python",
   "name": "python",
   "nbconvert_exporter": "python",
   "pygments_lexer": "ipython3",
   "version": "3.11.13"
  },
  "papermill": {
   "default_parameters": {},
   "duration": 32.498241,
   "end_time": "2025-07-19T08:48:11.894905",
   "environment_variables": {},
   "exception": null,
   "input_path": "__notebook__.ipynb",
   "output_path": "__notebook__.ipynb",
   "parameters": {},
   "start_time": "2025-07-19T08:47:39.396664",
   "version": "2.6.0"
  }
 },
 "nbformat": 4,
 "nbformat_minor": 5
}
